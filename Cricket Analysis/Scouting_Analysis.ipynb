{
  "nbformat": 4,
  "nbformat_minor": 0,
  "metadata": {
    "colab": {
      "provenance": []
    },
    "kernelspec": {
      "name": "python3",
      "display_name": "Python 3"
    },
    "language_info": {
      "name": "python"
    }
  },
  "cells": [
    {
      "cell_type": "code",
      "execution_count": 1,
      "metadata": {
        "id": "RrM6cGrd5DE-"
      },
      "outputs": [],
      "source": [
        "import pandas as pd\n",
        "import numpy as np\n",
        "import matplotlib.pyplot as plt\n",
        "import warnings\n",
        "warnings.filterwarnings('ignore')\n",
        "\n",
        "pd.set_option('display.max_rows',None)\n",
        "pd.set_option('display.max_columns',None)\n",
        "pd.set_option('display.expand_frame_repr',False)\n",
        "pd.set_option('max.colwidth',-1)\n",
        "\n"
      ]
    },
    {
      "cell_type": "code",
      "source": [
        "from google.colab import files\n",
        "uploaded = files.upload()"
      ],
      "metadata": {
        "colab": {
          "base_uri": "https://localhost:8080/",
          "height": 109
        },
        "id": "gfImM6595qVq",
        "outputId": "49a2a812-dbbf-4182-990a-8bdb6527f673"
      },
      "execution_count": 2,
      "outputs": [
        {
          "output_type": "display_data",
          "data": {
            "text/plain": [
              "<IPython.core.display.HTML object>"
            ],
            "text/html": [
              "\n",
              "     <input type=\"file\" id=\"files-3a88a829-411d-4c9f-9081-7dd7af158bb6\" name=\"files[]\" multiple disabled\n",
              "        style=\"border:none\" />\n",
              "     <output id=\"result-3a88a829-411d-4c9f-9081-7dd7af158bb6\">\n",
              "      Upload widget is only available when the cell has been executed in the\n",
              "      current browser session. Please rerun this cell to enable.\n",
              "      </output>\n",
              "      <script>// Copyright 2017 Google LLC\n",
              "//\n",
              "// Licensed under the Apache License, Version 2.0 (the \"License\");\n",
              "// you may not use this file except in compliance with the License.\n",
              "// You may obtain a copy of the License at\n",
              "//\n",
              "//      http://www.apache.org/licenses/LICENSE-2.0\n",
              "//\n",
              "// Unless required by applicable law or agreed to in writing, software\n",
              "// distributed under the License is distributed on an \"AS IS\" BASIS,\n",
              "// WITHOUT WARRANTIES OR CONDITIONS OF ANY KIND, either express or implied.\n",
              "// See the License for the specific language governing permissions and\n",
              "// limitations under the License.\n",
              "\n",
              "/**\n",
              " * @fileoverview Helpers for google.colab Python module.\n",
              " */\n",
              "(function(scope) {\n",
              "function span(text, styleAttributes = {}) {\n",
              "  const element = document.createElement('span');\n",
              "  element.textContent = text;\n",
              "  for (const key of Object.keys(styleAttributes)) {\n",
              "    element.style[key] = styleAttributes[key];\n",
              "  }\n",
              "  return element;\n",
              "}\n",
              "\n",
              "// Max number of bytes which will be uploaded at a time.\n",
              "const MAX_PAYLOAD_SIZE = 100 * 1024;\n",
              "\n",
              "function _uploadFiles(inputId, outputId) {\n",
              "  const steps = uploadFilesStep(inputId, outputId);\n",
              "  const outputElement = document.getElementById(outputId);\n",
              "  // Cache steps on the outputElement to make it available for the next call\n",
              "  // to uploadFilesContinue from Python.\n",
              "  outputElement.steps = steps;\n",
              "\n",
              "  return _uploadFilesContinue(outputId);\n",
              "}\n",
              "\n",
              "// This is roughly an async generator (not supported in the browser yet),\n",
              "// where there are multiple asynchronous steps and the Python side is going\n",
              "// to poll for completion of each step.\n",
              "// This uses a Promise to block the python side on completion of each step,\n",
              "// then passes the result of the previous step as the input to the next step.\n",
              "function _uploadFilesContinue(outputId) {\n",
              "  const outputElement = document.getElementById(outputId);\n",
              "  const steps = outputElement.steps;\n",
              "\n",
              "  const next = steps.next(outputElement.lastPromiseValue);\n",
              "  return Promise.resolve(next.value.promise).then((value) => {\n",
              "    // Cache the last promise value to make it available to the next\n",
              "    // step of the generator.\n",
              "    outputElement.lastPromiseValue = value;\n",
              "    return next.value.response;\n",
              "  });\n",
              "}\n",
              "\n",
              "/**\n",
              " * Generator function which is called between each async step of the upload\n",
              " * process.\n",
              " * @param {string} inputId Element ID of the input file picker element.\n",
              " * @param {string} outputId Element ID of the output display.\n",
              " * @return {!Iterable<!Object>} Iterable of next steps.\n",
              " */\n",
              "function* uploadFilesStep(inputId, outputId) {\n",
              "  const inputElement = document.getElementById(inputId);\n",
              "  inputElement.disabled = false;\n",
              "\n",
              "  const outputElement = document.getElementById(outputId);\n",
              "  outputElement.innerHTML = '';\n",
              "\n",
              "  const pickedPromise = new Promise((resolve) => {\n",
              "    inputElement.addEventListener('change', (e) => {\n",
              "      resolve(e.target.files);\n",
              "    });\n",
              "  });\n",
              "\n",
              "  const cancel = document.createElement('button');\n",
              "  inputElement.parentElement.appendChild(cancel);\n",
              "  cancel.textContent = 'Cancel upload';\n",
              "  const cancelPromise = new Promise((resolve) => {\n",
              "    cancel.onclick = () => {\n",
              "      resolve(null);\n",
              "    };\n",
              "  });\n",
              "\n",
              "  // Wait for the user to pick the files.\n",
              "  const files = yield {\n",
              "    promise: Promise.race([pickedPromise, cancelPromise]),\n",
              "    response: {\n",
              "      action: 'starting',\n",
              "    }\n",
              "  };\n",
              "\n",
              "  cancel.remove();\n",
              "\n",
              "  // Disable the input element since further picks are not allowed.\n",
              "  inputElement.disabled = true;\n",
              "\n",
              "  if (!files) {\n",
              "    return {\n",
              "      response: {\n",
              "        action: 'complete',\n",
              "      }\n",
              "    };\n",
              "  }\n",
              "\n",
              "  for (const file of files) {\n",
              "    const li = document.createElement('li');\n",
              "    li.append(span(file.name, {fontWeight: 'bold'}));\n",
              "    li.append(span(\n",
              "        `(${file.type || 'n/a'}) - ${file.size} bytes, ` +\n",
              "        `last modified: ${\n",
              "            file.lastModifiedDate ? file.lastModifiedDate.toLocaleDateString() :\n",
              "                                    'n/a'} - `));\n",
              "    const percent = span('0% done');\n",
              "    li.appendChild(percent);\n",
              "\n",
              "    outputElement.appendChild(li);\n",
              "\n",
              "    const fileDataPromise = new Promise((resolve) => {\n",
              "      const reader = new FileReader();\n",
              "      reader.onload = (e) => {\n",
              "        resolve(e.target.result);\n",
              "      };\n",
              "      reader.readAsArrayBuffer(file);\n",
              "    });\n",
              "    // Wait for the data to be ready.\n",
              "    let fileData = yield {\n",
              "      promise: fileDataPromise,\n",
              "      response: {\n",
              "        action: 'continue',\n",
              "      }\n",
              "    };\n",
              "\n",
              "    // Use a chunked sending to avoid message size limits. See b/62115660.\n",
              "    let position = 0;\n",
              "    do {\n",
              "      const length = Math.min(fileData.byteLength - position, MAX_PAYLOAD_SIZE);\n",
              "      const chunk = new Uint8Array(fileData, position, length);\n",
              "      position += length;\n",
              "\n",
              "      const base64 = btoa(String.fromCharCode.apply(null, chunk));\n",
              "      yield {\n",
              "        response: {\n",
              "          action: 'append',\n",
              "          file: file.name,\n",
              "          data: base64,\n",
              "        },\n",
              "      };\n",
              "\n",
              "      let percentDone = fileData.byteLength === 0 ?\n",
              "          100 :\n",
              "          Math.round((position / fileData.byteLength) * 100);\n",
              "      percent.textContent = `${percentDone}% done`;\n",
              "\n",
              "    } while (position < fileData.byteLength);\n",
              "  }\n",
              "\n",
              "  // All done.\n",
              "  yield {\n",
              "    response: {\n",
              "      action: 'complete',\n",
              "    }\n",
              "  };\n",
              "}\n",
              "\n",
              "scope.google = scope.google || {};\n",
              "scope.google.colab = scope.google.colab || {};\n",
              "scope.google.colab._files = {\n",
              "  _uploadFiles,\n",
              "  _uploadFilesContinue,\n",
              "};\n",
              "})(self);\n",
              "</script> "
            ]
          },
          "metadata": {}
        },
        {
          "output_type": "stream",
          "name": "stdout",
          "text": [
            "Saving deliveries.csv to deliveries.csv\n",
            "Saving matches.csv to matches.csv\n"
          ]
        }
      ]
    },
    {
      "cell_type": "code",
      "source": [
        "matches = pd.read_csv('matches.csv')\n",
        "deliveries = pd.read_csv('deliveries.csv')\n"
      ],
      "metadata": {
        "id": "My9TDFgb5w9K"
      },
      "execution_count": 3,
      "outputs": []
    },
    {
      "cell_type": "code",
      "source": [
        "df = deliveries.copy()\n",
        "mf = matches.copy()"
      ],
      "metadata": {
        "id": "QbC-dg937_4E"
      },
      "execution_count": 4,
      "outputs": []
    },
    {
      "cell_type": "code",
      "source": [
        "df['one'] = df['batsman_runs'].apply(lambda x:  1 if x==1 else 0 )\n",
        "df['two'] = df['batsman_runs'].apply(lambda x: 1 if x==2 else 0 )\n",
        "df['three'] = df['batsman_runs'].apply(lambda x: 1 if x==3 else 0 )\n",
        "df['four'] = df['batsman_runs'].apply(lambda x:  1 if x==4 else 0 )\n",
        "df['six'] = df['batsman_runs'].apply(lambda x: 1 if x==6 else 0 )\n",
        "df['dot'] = df['batsman_runs'].apply(lambda x: 1 if x==0 else 0 )\n"
      ],
      "metadata": {
        "id": "Ruw73Ngd8M7K"
      },
      "execution_count": 5,
      "outputs": []
    },
    {
      "cell_type": "code",
      "source": [
        "def phase(over):\n",
        "  if over < 6:\n",
        "    return 'Powerplay'\n",
        "  elif over < 15:\n",
        "    return 'Middle'\n",
        "  else:\n",
        "    return 'Death'\n"
      ],
      "metadata": {
        "id": "2bs0cQ9b9GF-"
      },
      "execution_count": 6,
      "outputs": []
    },
    {
      "cell_type": "code",
      "source": [
        "df['Phase'] = df['over'].apply(lambda x : phase(x))"
      ],
      "metadata": {
        "id": "7ghD-0sg9kgE"
      },
      "execution_count": 7,
      "outputs": []
    },
    {
      "cell_type": "markdown",
      "source": [
        "Extracting Player Details for Given Phase:"
      ],
      "metadata": {
        "id": "rnmcyP2RRpnf"
      }
    },
    {
      "cell_type": "code",
      "source": [
        "def Custom(df,current_phase):\n",
        "  df = df[df.Phase == current_phase]\n",
        "  df.reset_index(inplace = True,drop = True)\n",
        "\n",
        "  runs = pd.DataFrame(df.groupby(['batsman'])['batsman_runs'].sum().reset_index().rename(columns={'batsman_runs':'Runs'}))\n",
        "  balls = pd.DataFrame(df.groupby(['batsman'])['batsman_runs'].count().reset_index().rename(columns={'batsman_runs':'Balls_Faced'}))\n",
        "  dismissals = pd.DataFrame(df.groupby(['batsman'])['player_dismissed'].count().reset_index().rename(columns={'player_dismissed':'Dismissals'}))\n",
        "  innings = pd.DataFrame(df.groupby(['batsman'])['matchId'].apply(lambda x : len(list(np.unique(x)))).reset_index().rename(columns={'matchId':'Innings'}))\n",
        "\n",
        "  ones = pd.DataFrame(df.groupby(['batsman'])['one'].sum().reset_index().rename(columns={'one':'Ones'}))\n",
        "  twos = pd.DataFrame(df.groupby(['batsman'])['two'].sum().reset_index().rename(columns={'two':'Twos'}))\n",
        "  three = pd.DataFrame(df.groupby(['batsman'])['three'].sum().reset_index().rename(columns={'three':'Threes'}))\n",
        "  fours = pd.DataFrame(df.groupby(['batsman'])['four'].sum().reset_index().rename(columns={'four':'Fours'}))\n",
        "  sixes = pd.DataFrame(df.groupby(['batsman'])['six'].sum().reset_index().rename(columns={'six':'Sixes'}))\n",
        "  dots = pd.DataFrame(df.groupby(['batsman'])['dot'].sum().reset_index().rename(columns={'dot':'Dots'}))\n",
        "\n",
        "  df = pd.merge(runs,balls,on='batsman').merge(dismissals,on='batsman').merge(innings,on='batsman').merge(ones,on='batsman').merge(twos,on='batsman').merge(three,on='batsman').merge(fours,on='batsman').merge(sixes,on='batsman').merge(dots,on='batsman')\n",
        "  \n",
        "  \n",
        "  return df"
      ],
      "metadata": {
        "id": "cg9zi-paBYT-"
      },
      "execution_count": 10,
      "outputs": []
    },
    {
      "cell_type": "code",
      "source": [
        "df1 = Custom(df,'Powerplay')\n",
        "df2 = Custom(df,'Middle')\n",
        "df3 = Custom(df,'Death')\n"
      ],
      "metadata": {
        "id": "YqZiRMG7IZPC"
      },
      "execution_count": 11,
      "outputs": []
    },
    {
      "cell_type": "code",
      "source": [
        "df1 = df1[df1.Balls_Faced > 25]"
      ],
      "metadata": {
        "id": "3UXXiZhWJQxp"
      },
      "execution_count": 12,
      "outputs": []
    },
    {
      "cell_type": "code",
      "source": [
        "df1['RPI'] = df1.apply(lambda x : x['Runs']/x['Innings'],axis=1)"
      ],
      "metadata": {
        "id": "sDjliNDDL15-"
      },
      "execution_count": 13,
      "outputs": []
    },
    {
      "cell_type": "code",
      "source": [
        "df1['Boundaries'] = df1['Fours'] + df1['Sixes'] "
      ],
      "metadata": {
        "id": "FKUJCQHCNuKv"
      },
      "execution_count": 14,
      "outputs": []
    },
    {
      "cell_type": "code",
      "source": [
        "def BPB(Balls,Boundary):\n",
        "  if Boundary > 0 :\n",
        "    return Balls / Boundary \n",
        "  else:\n",
        "    return Balls\n",
        "\n",
        "def BPD(Balls,Dismissals):\n",
        "  if Dismissals > 0:\n",
        "    return Balls / Dismissals\n",
        "  else:\n",
        "    return Balls\n",
        "\n",
        "def Average(Runs,Dismissals):\n",
        "  if Dismissals > 0:\n",
        "    return Runs/Dismissals\n",
        "  else:\n",
        "    return Runs"
      ],
      "metadata": {
        "id": "yGByLZppMrWM"
      },
      "execution_count": 15,
      "outputs": []
    },
    {
      "cell_type": "code",
      "source": [
        "df1['BPB'] = df1.apply(lambda x : BPB(x['Balls_Faced'],x['Boundaries']),axis=1)\n",
        "df1['BPD'] = df1.apply(lambda x : BPB(x['Balls_Faced'],x['Dismissals']),axis=1)\n",
        "df1['Average'] = df1.apply(lambda x : BPB(x['Runs'],x['Dismissals']),axis=1)\n",
        "df1['StrikeRate'] = df1.apply(lambda x : (x['Runs'] / x['Balls_Faced'])*100,axis=1)\n",
        "df1['DotPercentage'] = df1.apply(lambda x: (x['Dots']/x['Balls_Faced'])*100,axis=1)"
      ],
      "metadata": {
        "id": "bdfQE-0CNaxb"
      },
      "execution_count": 16,
      "outputs": []
    },
    {
      "cell_type": "markdown",
      "source": [
        "***Pair Wise Comparison to determine criteria weights:***"
      ],
      "metadata": {
        "id": "CN78chsEV_ei"
      }
    },
    {
      "cell_type": "markdown",
      "source": [
        "![image.png](data:image/png;base64,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)"
      ],
      "metadata": {
        "id": "mPsE-DgD9tbT"
      }
    },
    {
      "cell_type": "code",
      "source": [
        "wt_SR,wt_BPB,wt_BPD,wt_DP,wt_RPI = 0.297,0.142,0.098,0.277,0.185"
      ],
      "metadata": {
        "id": "-vUQfhdAV51M"
      },
      "execution_count": 55,
      "outputs": []
    },
    {
      "cell_type": "markdown",
      "source": [
        "**Calculating the score using MinMax Value:**"
      ],
      "metadata": {
        "id": "R21j7VAFzHlB"
      }
    },
    {
      "cell_type": "code",
      "source": [
        "min_val = min(df1['StrikeRate']) \n",
        "max_val = max(df1['StrikeRate'])\n",
        "\n",
        "df1['mx_SR'] = df1['StrikeRate'].apply(lambda x: (x - min_val)/(max_val - min_val))"
      ],
      "metadata": {
        "id": "JTdUr-DpzFHG"
      },
      "execution_count": 56,
      "outputs": []
    },
    {
      "cell_type": "code",
      "source": [
        "min_val = max(df1['BPB']) \n",
        "max_val = min(df1['BPB'])\n",
        "\n",
        "df1['mx_BPB'] = df1['BPB'].apply(lambda x: (x - min_val)/(max_val - min_val))"
      ],
      "metadata": {
        "id": "KwpkOpKnzgOn"
      },
      "execution_count": 57,
      "outputs": []
    },
    {
      "cell_type": "code",
      "source": [
        "min_val = min(df1['BPD'])\n",
        "max_val = max(df1['BPD'])\n",
        "\n",
        "df1['mx_BPD'] = df1['BPD'].apply(lambda x : (x - min_val)/(max_val - min_val))"
      ],
      "metadata": {
        "id": "Kk8dlPOTz888"
      },
      "execution_count": 59,
      "outputs": []
    },
    {
      "cell_type": "code",
      "source": [
        "min_val = max(df1['DotPercentage'])\n",
        "max_val = min(df1['DotPercentage'])\n",
        "\n",
        "df1['mx_DP'] = df1['DotPercentage'].apply(lambda x : (x - min_val)/(max_val - min_val))"
      ],
      "metadata": {
        "id": "IABRviUL0bk4"
      },
      "execution_count": 60,
      "outputs": []
    },
    {
      "cell_type": "code",
      "source": [
        "min_val = min(df1['RPI'])\n",
        "max_val = max(df1['RPI'])\n",
        "\n",
        "df1['mx_RPI'] = df1['RPI'].apply(lambda x : (x - min_val)/(max_val - min_val))"
      ],
      "metadata": {
        "id": "CwywUyDF0pEW"
      },
      "execution_count": 61,
      "outputs": []
    },
    {
      "cell_type": "code",
      "source": [
        "df1.head(1)"
      ],
      "metadata": {
        "colab": {
          "base_uri": "https://localhost:8080/",
          "height": 162
        },
        "id": "KSlAHGjL0xg6",
        "outputId": "032be423-eb98-49a9-e95b-c7404890d394"
      },
      "execution_count": 62,
      "outputs": [
        {
          "output_type": "execute_result",
          "data": {
            "text/plain": [
              "    batsman  Runs  Balls_Faced  Dismissals  Innings  Ones  Twos  Threes  Fours  Sixes  Dots  RPI  Boundaries    BPB   BPD  Average  StrikeRate  DotPercentage     mx_SR    mx_BPB    mx_BPD  mx_DotPercentage    mx_RPI    mx_DP  minmax_score\n",
              "2  A Chopra  27    41           2           5        11    0     0       4      0      26    5.4  4           10.25  20.5  13.5     65.853659   63.414634      0.223253  0.726744  0.173038  0.62906           0.179092  0.37094  0.444103    "
            ],
            "text/html": [
              "\n",
              "  <div id=\"df-4bce8483-bf6b-4ce0-8db6-3a79854990e0\">\n",
              "    <div class=\"colab-df-container\">\n",
              "      <div>\n",
              "<style scoped>\n",
              "    .dataframe tbody tr th:only-of-type {\n",
              "        vertical-align: middle;\n",
              "    }\n",
              "\n",
              "    .dataframe tbody tr th {\n",
              "        vertical-align: top;\n",
              "    }\n",
              "\n",
              "    .dataframe thead th {\n",
              "        text-align: right;\n",
              "    }\n",
              "</style>\n",
              "<table border=\"1\" class=\"dataframe\">\n",
              "  <thead>\n",
              "    <tr style=\"text-align: right;\">\n",
              "      <th></th>\n",
              "      <th>batsman</th>\n",
              "      <th>Runs</th>\n",
              "      <th>Balls_Faced</th>\n",
              "      <th>Dismissals</th>\n",
              "      <th>Innings</th>\n",
              "      <th>Ones</th>\n",
              "      <th>Twos</th>\n",
              "      <th>Threes</th>\n",
              "      <th>Fours</th>\n",
              "      <th>Sixes</th>\n",
              "      <th>Dots</th>\n",
              "      <th>RPI</th>\n",
              "      <th>Boundaries</th>\n",
              "      <th>BPB</th>\n",
              "      <th>BPD</th>\n",
              "      <th>Average</th>\n",
              "      <th>StrikeRate</th>\n",
              "      <th>DotPercentage</th>\n",
              "      <th>mx_SR</th>\n",
              "      <th>mx_BPB</th>\n",
              "      <th>mx_BPD</th>\n",
              "      <th>mx_DotPercentage</th>\n",
              "      <th>mx_RPI</th>\n",
              "      <th>mx_DP</th>\n",
              "      <th>minmax_score</th>\n",
              "    </tr>\n",
              "  </thead>\n",
              "  <tbody>\n",
              "    <tr>\n",
              "      <th>2</th>\n",
              "      <td>A Chopra</td>\n",
              "      <td>27</td>\n",
              "      <td>41</td>\n",
              "      <td>2</td>\n",
              "      <td>5</td>\n",
              "      <td>11</td>\n",
              "      <td>0</td>\n",
              "      <td>0</td>\n",
              "      <td>4</td>\n",
              "      <td>0</td>\n",
              "      <td>26</td>\n",
              "      <td>5.4</td>\n",
              "      <td>4</td>\n",
              "      <td>10.25</td>\n",
              "      <td>20.5</td>\n",
              "      <td>13.5</td>\n",
              "      <td>65.853659</td>\n",
              "      <td>63.414634</td>\n",
              "      <td>0.223253</td>\n",
              "      <td>0.726744</td>\n",
              "      <td>0.173038</td>\n",
              "      <td>0.62906</td>\n",
              "      <td>0.179092</td>\n",
              "      <td>0.37094</td>\n",
              "      <td>0.444103</td>\n",
              "    </tr>\n",
              "  </tbody>\n",
              "</table>\n",
              "</div>\n",
              "      <button class=\"colab-df-convert\" onclick=\"convertToInteractive('df-4bce8483-bf6b-4ce0-8db6-3a79854990e0')\"\n",
              "              title=\"Convert this dataframe to an interactive table.\"\n",
              "              style=\"display:none;\">\n",
              "        \n",
              "  <svg xmlns=\"http://www.w3.org/2000/svg\" height=\"24px\"viewBox=\"0 0 24 24\"\n",
              "       width=\"24px\">\n",
              "    <path d=\"M0 0h24v24H0V0z\" fill=\"none\"/>\n",
              "    <path d=\"M18.56 5.44l.94 2.06.94-2.06 2.06-.94-2.06-.94-.94-2.06-.94 2.06-2.06.94zm-11 1L8.5 8.5l.94-2.06 2.06-.94-2.06-.94L8.5 2.5l-.94 2.06-2.06.94zm10 10l.94 2.06.94-2.06 2.06-.94-2.06-.94-.94-2.06-.94 2.06-2.06.94z\"/><path d=\"M17.41 7.96l-1.37-1.37c-.4-.4-.92-.59-1.43-.59-.52 0-1.04.2-1.43.59L10.3 9.45l-7.72 7.72c-.78.78-.78 2.05 0 2.83L4 21.41c.39.39.9.59 1.41.59.51 0 1.02-.2 1.41-.59l7.78-7.78 2.81-2.81c.8-.78.8-2.07 0-2.86zM5.41 20L4 18.59l7.72-7.72 1.47 1.35L5.41 20z\"/>\n",
              "  </svg>\n",
              "      </button>\n",
              "      \n",
              "  <style>\n",
              "    .colab-df-container {\n",
              "      display:flex;\n",
              "      flex-wrap:wrap;\n",
              "      gap: 12px;\n",
              "    }\n",
              "\n",
              "    .colab-df-convert {\n",
              "      background-color: #E8F0FE;\n",
              "      border: none;\n",
              "      border-radius: 50%;\n",
              "      cursor: pointer;\n",
              "      display: none;\n",
              "      fill: #1967D2;\n",
              "      height: 32px;\n",
              "      padding: 0 0 0 0;\n",
              "      width: 32px;\n",
              "    }\n",
              "\n",
              "    .colab-df-convert:hover {\n",
              "      background-color: #E2EBFA;\n",
              "      box-shadow: 0px 1px 2px rgba(60, 64, 67, 0.3), 0px 1px 3px 1px rgba(60, 64, 67, 0.15);\n",
              "      fill: #174EA6;\n",
              "    }\n",
              "\n",
              "    [theme=dark] .colab-df-convert {\n",
              "      background-color: #3B4455;\n",
              "      fill: #D2E3FC;\n",
              "    }\n",
              "\n",
              "    [theme=dark] .colab-df-convert:hover {\n",
              "      background-color: #434B5C;\n",
              "      box-shadow: 0px 1px 3px 1px rgba(0, 0, 0, 0.15);\n",
              "      filter: drop-shadow(0px 1px 2px rgba(0, 0, 0, 0.3));\n",
              "      fill: #FFFFFF;\n",
              "    }\n",
              "  </style>\n",
              "\n",
              "      <script>\n",
              "        const buttonEl =\n",
              "          document.querySelector('#df-4bce8483-bf6b-4ce0-8db6-3a79854990e0 button.colab-df-convert');\n",
              "        buttonEl.style.display =\n",
              "          google.colab.kernel.accessAllowed ? 'block' : 'none';\n",
              "\n",
              "        async function convertToInteractive(key) {\n",
              "          const element = document.querySelector('#df-4bce8483-bf6b-4ce0-8db6-3a79854990e0');\n",
              "          const dataTable =\n",
              "            await google.colab.kernel.invokeFunction('convertToInteractive',\n",
              "                                                     [key], {});\n",
              "          if (!dataTable) return;\n",
              "\n",
              "          const docLinkHtml = 'Like what you see? Visit the ' +\n",
              "            '<a target=\"_blank\" href=https://colab.research.google.com/notebooks/data_table.ipynb>data table notebook</a>'\n",
              "            + ' to learn more about interactive tables.';\n",
              "          element.innerHTML = '';\n",
              "          dataTable['output_type'] = 'display_data';\n",
              "          await google.colab.output.renderOutput(dataTable, element);\n",
              "          const docLink = document.createElement('div');\n",
              "          docLink.innerHTML = docLinkHtml;\n",
              "          element.appendChild(docLink);\n",
              "        }\n",
              "      </script>\n",
              "    </div>\n",
              "  </div>\n",
              "  "
            ]
          },
          "metadata": {},
          "execution_count": 62
        }
      ]
    },
    {
      "cell_type": "code",
      "source": [
        "df1['minmax_score'] = df1.apply(lambda x : (x['mx_SR']*0.297 + x['mx_BPB']*0.142 + x['mx_BPD']*0.098 + x['mx_DP']*0.277 + x['mx_RPI']*0.185),axis=1)"
      ],
      "metadata": {
        "id": "9aQLRboS0zhN"
      },
      "execution_count": 63,
      "outputs": []
    },
    {
      "cell_type": "code",
      "source": [
        "df1[['batsman','Runs','Balls_Faced','Innings','StrikeRate','DotPercentage','BPB','BPD','minmax_score']].sort_values(by='minmax_score',ascending=False).head(5).reset_index()"
      ],
      "metadata": {
        "colab": {
          "base_uri": "https://localhost:8080/",
          "height": 206
        },
        "id": "L92sOyDP2Fdz",
        "outputId": "3bbdeb87-3a3c-467f-f14e-d07cdf96d0b8"
      },
      "execution_count": 65,
      "outputs": [
        {
          "output_type": "execute_result",
          "data": {
            "text/plain": [
              "   index      batsman  Runs  Balls_Faced  Innings  StrikeRate  DotPercentage       BPB        BPD  minmax_score\n",
              "0  303    UT Khawaja   107   79           6        135.443038  40.506329      4.937500  26.333333  0.810595    \n",
              "1  18     AD Hales     114   82           6        139.024390  43.902439      4.823529  27.333333  0.806414    \n",
              "2  214    PP Shaw      1129  787          63       143.456163  43.837357      4.142105  20.179487  0.800210    \n",
              "3  121    JM Bairstow  695   487          36       142.710472  47.433265      4.127119  30.437500  0.798068    \n",
              "4  115    JC Buttler   1230  882          62       139.455782  49.206349      4.160377  33.923077  0.787250    "
            ],
            "text/html": [
              "\n",
              "  <div id=\"df-edc0d7a4-6a1c-4bc6-9d6d-175cb0231748\">\n",
              "    <div class=\"colab-df-container\">\n",
              "      <div>\n",
              "<style scoped>\n",
              "    .dataframe tbody tr th:only-of-type {\n",
              "        vertical-align: middle;\n",
              "    }\n",
              "\n",
              "    .dataframe tbody tr th {\n",
              "        vertical-align: top;\n",
              "    }\n",
              "\n",
              "    .dataframe thead th {\n",
              "        text-align: right;\n",
              "    }\n",
              "</style>\n",
              "<table border=\"1\" class=\"dataframe\">\n",
              "  <thead>\n",
              "    <tr style=\"text-align: right;\">\n",
              "      <th></th>\n",
              "      <th>index</th>\n",
              "      <th>batsman</th>\n",
              "      <th>Runs</th>\n",
              "      <th>Balls_Faced</th>\n",
              "      <th>Innings</th>\n",
              "      <th>StrikeRate</th>\n",
              "      <th>DotPercentage</th>\n",
              "      <th>BPB</th>\n",
              "      <th>BPD</th>\n",
              "      <th>minmax_score</th>\n",
              "    </tr>\n",
              "  </thead>\n",
              "  <tbody>\n",
              "    <tr>\n",
              "      <th>0</th>\n",
              "      <td>303</td>\n",
              "      <td>UT Khawaja</td>\n",
              "      <td>107</td>\n",
              "      <td>79</td>\n",
              "      <td>6</td>\n",
              "      <td>135.443038</td>\n",
              "      <td>40.506329</td>\n",
              "      <td>4.937500</td>\n",
              "      <td>26.333333</td>\n",
              "      <td>0.810595</td>\n",
              "    </tr>\n",
              "    <tr>\n",
              "      <th>1</th>\n",
              "      <td>18</td>\n",
              "      <td>AD Hales</td>\n",
              "      <td>114</td>\n",
              "      <td>82</td>\n",
              "      <td>6</td>\n",
              "      <td>139.024390</td>\n",
              "      <td>43.902439</td>\n",
              "      <td>4.823529</td>\n",
              "      <td>27.333333</td>\n",
              "      <td>0.806414</td>\n",
              "    </tr>\n",
              "    <tr>\n",
              "      <th>2</th>\n",
              "      <td>214</td>\n",
              "      <td>PP Shaw</td>\n",
              "      <td>1129</td>\n",
              "      <td>787</td>\n",
              "      <td>63</td>\n",
              "      <td>143.456163</td>\n",
              "      <td>43.837357</td>\n",
              "      <td>4.142105</td>\n",
              "      <td>20.179487</td>\n",
              "      <td>0.800210</td>\n",
              "    </tr>\n",
              "    <tr>\n",
              "      <th>3</th>\n",
              "      <td>121</td>\n",
              "      <td>JM Bairstow</td>\n",
              "      <td>695</td>\n",
              "      <td>487</td>\n",
              "      <td>36</td>\n",
              "      <td>142.710472</td>\n",
              "      <td>47.433265</td>\n",
              "      <td>4.127119</td>\n",
              "      <td>30.437500</td>\n",
              "      <td>0.798068</td>\n",
              "    </tr>\n",
              "    <tr>\n",
              "      <th>4</th>\n",
              "      <td>115</td>\n",
              "      <td>JC Buttler</td>\n",
              "      <td>1230</td>\n",
              "      <td>882</td>\n",
              "      <td>62</td>\n",
              "      <td>139.455782</td>\n",
              "      <td>49.206349</td>\n",
              "      <td>4.160377</td>\n",
              "      <td>33.923077</td>\n",
              "      <td>0.787250</td>\n",
              "    </tr>\n",
              "  </tbody>\n",
              "</table>\n",
              "</div>\n",
              "      <button class=\"colab-df-convert\" onclick=\"convertToInteractive('df-edc0d7a4-6a1c-4bc6-9d6d-175cb0231748')\"\n",
              "              title=\"Convert this dataframe to an interactive table.\"\n",
              "              style=\"display:none;\">\n",
              "        \n",
              "  <svg xmlns=\"http://www.w3.org/2000/svg\" height=\"24px\"viewBox=\"0 0 24 24\"\n",
              "       width=\"24px\">\n",
              "    <path d=\"M0 0h24v24H0V0z\" fill=\"none\"/>\n",
              "    <path d=\"M18.56 5.44l.94 2.06.94-2.06 2.06-.94-2.06-.94-.94-2.06-.94 2.06-2.06.94zm-11 1L8.5 8.5l.94-2.06 2.06-.94-2.06-.94L8.5 2.5l-.94 2.06-2.06.94zm10 10l.94 2.06.94-2.06 2.06-.94-2.06-.94-.94-2.06-.94 2.06-2.06.94z\"/><path d=\"M17.41 7.96l-1.37-1.37c-.4-.4-.92-.59-1.43-.59-.52 0-1.04.2-1.43.59L10.3 9.45l-7.72 7.72c-.78.78-.78 2.05 0 2.83L4 21.41c.39.39.9.59 1.41.59.51 0 1.02-.2 1.41-.59l7.78-7.78 2.81-2.81c.8-.78.8-2.07 0-2.86zM5.41 20L4 18.59l7.72-7.72 1.47 1.35L5.41 20z\"/>\n",
              "  </svg>\n",
              "      </button>\n",
              "      \n",
              "  <style>\n",
              "    .colab-df-container {\n",
              "      display:flex;\n",
              "      flex-wrap:wrap;\n",
              "      gap: 12px;\n",
              "    }\n",
              "\n",
              "    .colab-df-convert {\n",
              "      background-color: #E8F0FE;\n",
              "      border: none;\n",
              "      border-radius: 50%;\n",
              "      cursor: pointer;\n",
              "      display: none;\n",
              "      fill: #1967D2;\n",
              "      height: 32px;\n",
              "      padding: 0 0 0 0;\n",
              "      width: 32px;\n",
              "    }\n",
              "\n",
              "    .colab-df-convert:hover {\n",
              "      background-color: #E2EBFA;\n",
              "      box-shadow: 0px 1px 2px rgba(60, 64, 67, 0.3), 0px 1px 3px 1px rgba(60, 64, 67, 0.15);\n",
              "      fill: #174EA6;\n",
              "    }\n",
              "\n",
              "    [theme=dark] .colab-df-convert {\n",
              "      background-color: #3B4455;\n",
              "      fill: #D2E3FC;\n",
              "    }\n",
              "\n",
              "    [theme=dark] .colab-df-convert:hover {\n",
              "      background-color: #434B5C;\n",
              "      box-shadow: 0px 1px 3px 1px rgba(0, 0, 0, 0.15);\n",
              "      filter: drop-shadow(0px 1px 2px rgba(0, 0, 0, 0.3));\n",
              "      fill: #FFFFFF;\n",
              "    }\n",
              "  </style>\n",
              "\n",
              "      <script>\n",
              "        const buttonEl =\n",
              "          document.querySelector('#df-edc0d7a4-6a1c-4bc6-9d6d-175cb0231748 button.colab-df-convert');\n",
              "        buttonEl.style.display =\n",
              "          google.colab.kernel.accessAllowed ? 'block' : 'none';\n",
              "\n",
              "        async function convertToInteractive(key) {\n",
              "          const element = document.querySelector('#df-edc0d7a4-6a1c-4bc6-9d6d-175cb0231748');\n",
              "          const dataTable =\n",
              "            await google.colab.kernel.invokeFunction('convertToInteractive',\n",
              "                                                     [key], {});\n",
              "          if (!dataTable) return;\n",
              "\n",
              "          const docLinkHtml = 'Like what you see? Visit the ' +\n",
              "            '<a target=\"_blank\" href=https://colab.research.google.com/notebooks/data_table.ipynb>data table notebook</a>'\n",
              "            + ' to learn more about interactive tables.';\n",
              "          element.innerHTML = '';\n",
              "          dataTable['output_type'] = 'display_data';\n",
              "          await google.colab.output.renderOutput(dataTable, element);\n",
              "          const docLink = document.createElement('div');\n",
              "          docLink.innerHTML = docLinkHtml;\n",
              "          element.appendChild(docLink);\n",
              "        }\n",
              "      </script>\n",
              "    </div>\n",
              "  </div>\n",
              "  "
            ]
          },
          "metadata": {},
          "execution_count": 65
        }
      ]
    },
    {
      "cell_type": "markdown",
      "source": [
        "**Calculating the score using Standardisation method:**"
      ],
      "metadata": {
        "id": "Ftg4AaJ4_Yes"
      }
    },
    {
      "cell_type": "code",
      "source": [
        "mean_val = np.mean(df1['StrikeRate'])\n",
        "std_val = np.std(df1['StrikeRate'])\n",
        "\n",
        "df1['st_SR'] = df1['StrikeRate'].apply(lambda x : (x - mean_val)/(std_val))"
      ],
      "metadata": {
        "id": "dpSwr4mh2G-3"
      },
      "execution_count": 82,
      "outputs": []
    },
    {
      "cell_type": "code",
      "source": [
        "mean_val = np.mean(df1['BPB'])\n",
        "std_val = np.std(df1['BPB'])\n",
        "\n",
        "df1['st_BPB'] = df1['BPB'].apply(lambda x : (x - mean_val)/(std_val))"
      ],
      "metadata": {
        "id": "OaqsK8cc-6XF"
      },
      "execution_count": 84,
      "outputs": []
    },
    {
      "cell_type": "code",
      "source": [
        "mean_val = np.mean(df1['BPD'])\n",
        "std_val = np.std(df1['BPD'])\n",
        "\n",
        "df1['st_BPD'] = df1['BPD'].apply(lambda x : (x - mean_val)/(std_val))"
      ],
      "metadata": {
        "id": "cZnOMf2o_G8G"
      },
      "execution_count": 85,
      "outputs": []
    },
    {
      "cell_type": "code",
      "source": [
        "mean_val = np.mean(df1['DotPercentage'])\n",
        "std_val = np.std(df1['DotPercentage'])\n",
        "\n",
        "df1['st_DP'] = df1['DotPercentage'].apply(lambda x : (x - mean_val)/(std_val))"
      ],
      "metadata": {
        "id": "trV3qbZb_Kco"
      },
      "execution_count": 86,
      "outputs": []
    },
    {
      "cell_type": "code",
      "source": [
        "mean_val = np.mean(df1['RPI'])\n",
        "std_val = np.std(df1['RPI'])\n",
        "\n",
        "df1['st_RPI'] = df1['RPI'].apply(lambda x : (x - mean_val)/(std_val))"
      ],
      "metadata": {
        "id": "2FehTbhI_SBG"
      },
      "execution_count": 87,
      "outputs": []
    },
    {
      "cell_type": "code",
      "source": [
        "df1['st_score'] = df1.apply(lambda x : (x['st_SR']*0.297 + x['st_BPB']*0.142 + x['st_BPD']*0.098 + x['st_DP']*0.277 + x['st_RPI']*0.185), axis=1)"
      ],
      "metadata": {
        "id": "PUhWaCoS_WV2"
      },
      "execution_count": 88,
      "outputs": []
    },
    {
      "cell_type": "code",
      "source": [
        "df1.sort_values(by='st_score',ascending=False).head(1).reset_index()"
      ],
      "metadata": {
        "colab": {
          "base_uri": "https://localhost:8080/",
          "height": 162
        },
        "id": "uk0_KxJq_-0T",
        "outputId": "83ddd150-7817-43bb-fd34-15ea0809ff2e"
      },
      "execution_count": 91,
      "outputs": [
        {
          "output_type": "execute_result",
          "data": {
            "text/plain": [
              "   index     batsman  Runs  Balls_Faced  Dismissals  Innings  Ones  Twos  Threes  Fours  Sixes  Dots       RPI  Boundaries       BPB        BPD    Average  StrikeRate  DotPercentage     mx_SR    mx_BPB    mx_BPD  mx_DotPercentage  mx_RPI     mx_DP  minmax_score    st_SR    st_BPB    st_BPD     st_DP    st_RPI  st_score\n",
              "0  115    JC Buttler  1230  882          26          62       204   30    1       157    55     434   19.83871  212         4.160377  33.923077  47.307692  139.455782  49.206349      0.747047  0.962776  0.335087  0.238902          1.0     0.761098  0.78725       1.42379 -0.755451  0.621748 -0.745542  2.052767  0.54977 "
            ],
            "text/html": [
              "\n",
              "  <div id=\"df-84fde273-cb17-4c5c-a465-e56a28a693bf\">\n",
              "    <div class=\"colab-df-container\">\n",
              "      <div>\n",
              "<style scoped>\n",
              "    .dataframe tbody tr th:only-of-type {\n",
              "        vertical-align: middle;\n",
              "    }\n",
              "\n",
              "    .dataframe tbody tr th {\n",
              "        vertical-align: top;\n",
              "    }\n",
              "\n",
              "    .dataframe thead th {\n",
              "        text-align: right;\n",
              "    }\n",
              "</style>\n",
              "<table border=\"1\" class=\"dataframe\">\n",
              "  <thead>\n",
              "    <tr style=\"text-align: right;\">\n",
              "      <th></th>\n",
              "      <th>index</th>\n",
              "      <th>batsman</th>\n",
              "      <th>Runs</th>\n",
              "      <th>Balls_Faced</th>\n",
              "      <th>Dismissals</th>\n",
              "      <th>Innings</th>\n",
              "      <th>Ones</th>\n",
              "      <th>Twos</th>\n",
              "      <th>Threes</th>\n",
              "      <th>Fours</th>\n",
              "      <th>Sixes</th>\n",
              "      <th>Dots</th>\n",
              "      <th>RPI</th>\n",
              "      <th>Boundaries</th>\n",
              "      <th>BPB</th>\n",
              "      <th>BPD</th>\n",
              "      <th>Average</th>\n",
              "      <th>StrikeRate</th>\n",
              "      <th>DotPercentage</th>\n",
              "      <th>mx_SR</th>\n",
              "      <th>mx_BPB</th>\n",
              "      <th>mx_BPD</th>\n",
              "      <th>mx_DotPercentage</th>\n",
              "      <th>mx_RPI</th>\n",
              "      <th>mx_DP</th>\n",
              "      <th>minmax_score</th>\n",
              "      <th>st_SR</th>\n",
              "      <th>st_BPB</th>\n",
              "      <th>st_BPD</th>\n",
              "      <th>st_DP</th>\n",
              "      <th>st_RPI</th>\n",
              "      <th>st_score</th>\n",
              "    </tr>\n",
              "  </thead>\n",
              "  <tbody>\n",
              "    <tr>\n",
              "      <th>0</th>\n",
              "      <td>115</td>\n",
              "      <td>JC Buttler</td>\n",
              "      <td>1230</td>\n",
              "      <td>882</td>\n",
              "      <td>26</td>\n",
              "      <td>62</td>\n",
              "      <td>204</td>\n",
              "      <td>30</td>\n",
              "      <td>1</td>\n",
              "      <td>157</td>\n",
              "      <td>55</td>\n",
              "      <td>434</td>\n",
              "      <td>19.83871</td>\n",
              "      <td>212</td>\n",
              "      <td>4.160377</td>\n",
              "      <td>33.923077</td>\n",
              "      <td>47.307692</td>\n",
              "      <td>139.455782</td>\n",
              "      <td>49.206349</td>\n",
              "      <td>0.747047</td>\n",
              "      <td>0.962776</td>\n",
              "      <td>0.335087</td>\n",
              "      <td>0.238902</td>\n",
              "      <td>1.0</td>\n",
              "      <td>0.761098</td>\n",
              "      <td>0.78725</td>\n",
              "      <td>1.42379</td>\n",
              "      <td>-0.755451</td>\n",
              "      <td>0.621748</td>\n",
              "      <td>-0.745542</td>\n",
              "      <td>2.052767</td>\n",
              "      <td>0.54977</td>\n",
              "    </tr>\n",
              "  </tbody>\n",
              "</table>\n",
              "</div>\n",
              "      <button class=\"colab-df-convert\" onclick=\"convertToInteractive('df-84fde273-cb17-4c5c-a465-e56a28a693bf')\"\n",
              "              title=\"Convert this dataframe to an interactive table.\"\n",
              "              style=\"display:none;\">\n",
              "        \n",
              "  <svg xmlns=\"http://www.w3.org/2000/svg\" height=\"24px\"viewBox=\"0 0 24 24\"\n",
              "       width=\"24px\">\n",
              "    <path d=\"M0 0h24v24H0V0z\" fill=\"none\"/>\n",
              "    <path d=\"M18.56 5.44l.94 2.06.94-2.06 2.06-.94-2.06-.94-.94-2.06-.94 2.06-2.06.94zm-11 1L8.5 8.5l.94-2.06 2.06-.94-2.06-.94L8.5 2.5l-.94 2.06-2.06.94zm10 10l.94 2.06.94-2.06 2.06-.94-2.06-.94-.94-2.06-.94 2.06-2.06.94z\"/><path d=\"M17.41 7.96l-1.37-1.37c-.4-.4-.92-.59-1.43-.59-.52 0-1.04.2-1.43.59L10.3 9.45l-7.72 7.72c-.78.78-.78 2.05 0 2.83L4 21.41c.39.39.9.59 1.41.59.51 0 1.02-.2 1.41-.59l7.78-7.78 2.81-2.81c.8-.78.8-2.07 0-2.86zM5.41 20L4 18.59l7.72-7.72 1.47 1.35L5.41 20z\"/>\n",
              "  </svg>\n",
              "      </button>\n",
              "      \n",
              "  <style>\n",
              "    .colab-df-container {\n",
              "      display:flex;\n",
              "      flex-wrap:wrap;\n",
              "      gap: 12px;\n",
              "    }\n",
              "\n",
              "    .colab-df-convert {\n",
              "      background-color: #E8F0FE;\n",
              "      border: none;\n",
              "      border-radius: 50%;\n",
              "      cursor: pointer;\n",
              "      display: none;\n",
              "      fill: #1967D2;\n",
              "      height: 32px;\n",
              "      padding: 0 0 0 0;\n",
              "      width: 32px;\n",
              "    }\n",
              "\n",
              "    .colab-df-convert:hover {\n",
              "      background-color: #E2EBFA;\n",
              "      box-shadow: 0px 1px 2px rgba(60, 64, 67, 0.3), 0px 1px 3px 1px rgba(60, 64, 67, 0.15);\n",
              "      fill: #174EA6;\n",
              "    }\n",
              "\n",
              "    [theme=dark] .colab-df-convert {\n",
              "      background-color: #3B4455;\n",
              "      fill: #D2E3FC;\n",
              "    }\n",
              "\n",
              "    [theme=dark] .colab-df-convert:hover {\n",
              "      background-color: #434B5C;\n",
              "      box-shadow: 0px 1px 3px 1px rgba(0, 0, 0, 0.15);\n",
              "      filter: drop-shadow(0px 1px 2px rgba(0, 0, 0, 0.3));\n",
              "      fill: #FFFFFF;\n",
              "    }\n",
              "  </style>\n",
              "\n",
              "      <script>\n",
              "        const buttonEl =\n",
              "          document.querySelector('#df-84fde273-cb17-4c5c-a465-e56a28a693bf button.colab-df-convert');\n",
              "        buttonEl.style.display =\n",
              "          google.colab.kernel.accessAllowed ? 'block' : 'none';\n",
              "\n",
              "        async function convertToInteractive(key) {\n",
              "          const element = document.querySelector('#df-84fde273-cb17-4c5c-a465-e56a28a693bf');\n",
              "          const dataTable =\n",
              "            await google.colab.kernel.invokeFunction('convertToInteractive',\n",
              "                                                     [key], {});\n",
              "          if (!dataTable) return;\n",
              "\n",
              "          const docLinkHtml = 'Like what you see? Visit the ' +\n",
              "            '<a target=\"_blank\" href=https://colab.research.google.com/notebooks/data_table.ipynb>data table notebook</a>'\n",
              "            + ' to learn more about interactive tables.';\n",
              "          element.innerHTML = '';\n",
              "          dataTable['output_type'] = 'display_data';\n",
              "          await google.colab.output.renderOutput(dataTable, element);\n",
              "          const docLink = document.createElement('div');\n",
              "          docLink.innerHTML = docLinkHtml;\n",
              "          element.appendChild(docLink);\n",
              "        }\n",
              "      </script>\n",
              "    </div>\n",
              "  </div>\n",
              "  "
            ]
          },
          "metadata": {},
          "execution_count": 91
        }
      ]
    },
    {
      "cell_type": "markdown",
      "source": [
        "**Calculating the score using the Topsis Method:**"
      ],
      "metadata": {
        "id": "26cNbFcOC21_"
      }
    },
    {
      "cell_type": "code",
      "source": [
        "df1['calc_SR'] = df1['StrikeRate'].apply(lambda x: x*x)\n",
        "df1['calc_BPB'] = df1['BPB'].apply(lambda x: x*x)\n",
        "df1['calc_BPD'] = df1['BPD'].apply(lambda x: x*x)\n",
        "df1['calc_DP'] = df1['DotPercentage'].apply(lambda x: x*x)\n",
        "df1['calc_RPI'] = df1['RPI'].apply(lambda x: x*x)\n",
        "\n"
      ],
      "metadata": {
        "id": "4z_8jyrtADub"
      },
      "execution_count": 93,
      "outputs": []
    },
    {
      "cell_type": "code",
      "source": [
        "sq_SR,sq_BPB,sq_BPD,sq_DP,sq_RPI = np.sqrt(df1[['calc_SR','calc_BPB','calc_BPD','calc_DP','calc_RPI']].sum(axis=0))"
      ],
      "metadata": {
        "id": "pn76TnnAC1kt"
      },
      "execution_count": 100,
      "outputs": []
    },
    {
      "cell_type": "code",
      "source": [
        "df1['calc_SR'] = df1['StrikeRate'].apply(lambda x: x/sq_SR)\n",
        "df1['calc_BPB'] = df1['BPB'].apply(lambda x: x/sq_BPB)\n",
        "df1['calc_BPD'] = df1['BPD'].apply(lambda x: x/sq_BPD)\n",
        "df1['calc_DP'] = df1['DotPercentage'].apply(lambda x: x/sq_DP)\n",
        "df1['calc_RPI'] = df1['RPI'].apply(lambda x: x/sq_RPI)\n",
        "\n"
      ],
      "metadata": {
        "id": "8Apmo5xzDsoK"
      },
      "execution_count": 105,
      "outputs": []
    },
    {
      "cell_type": "code",
      "source": [
        "df1['calc_SR'] = df1['StrikeRate'].apply(lambda x: x*wt_SR)\n",
        "df1['calc_BPB'] = df1['BPB'].apply(lambda x: x*wt_BPB)\n",
        "df1['calc_BPD'] = df1['BPD'].apply(lambda x: x*wt_BPD)\n",
        "df1['calc_DP'] = df1['DotPercentage'].apply(lambda x: x*wt_DP)\n",
        "df1['calc_RPI'] = df1['RPI'].apply(lambda x: x*wt_RPI)\n",
        "\n",
        "best_SR, Worst_SR = max(df1['calc_SR']) , min(df1['calc_SR'])\n",
        "best_BPB, Worst_BPB = min(df1['calc_BPB']) , max(df1['calc_BPB'])\n",
        "best_BPD, Worst_BPD = max(df1['calc_BPD']) , min(df1['calc_BPD'])\n",
        "best_DP, Worst_DP = min(df1['calc_DP']) , max(df1['calc_DP'])\n",
        "best_RPI, Worst_RPI = max(df1['calc_RPI']) , min(df1['calc_RPI'])\n",
        "\n"
      ],
      "metadata": {
        "id": "bWVd-p_UEEET"
      },
      "execution_count": 106,
      "outputs": []
    },
    {
      "cell_type": "markdown",
      "source": [
        "**Comparing against the best and worst values:**"
      ],
      "metadata": {
        "id": "Zp8H6eBIFiOb"
      }
    },
    {
      "cell_type": "code",
      "source": [
        "df1['d_best_SR'] = df1['calc_SR'].apply(lambda x : (x-best_SR)*(x-best_SR))\n",
        "df1['d_best_BPB'] = df1['calc_BPB'].apply(lambda x : (x-best_BPB)*(x-best_BPB))\n",
        "df1['d_best_BPD'] = df1['calc_BPD'].apply(lambda x : (x-best_BPD)*(x-best_BPD))\n",
        "df1['d_best_DP'] = df1['calc_DP'].apply(lambda x : (x-best_DP)*(x-best_DP))\n",
        "df1['d_best_RPI'] = df1['calc_RPI'].apply(lambda x : (x-best_RPI)*(x-best_RPI))\n",
        "\n",
        "df1['d_best_score'] = df1.apply(lambda x : (x['d_best_SR'] + x['d_best_BPB'] + x['d_best_BPD'] + x['d_best_DP'] + x['d_best_RPI']),axis=1)\n",
        "\n",
        "\n"
      ],
      "metadata": {
        "id": "EvQyUNJhFhx0"
      },
      "execution_count": 110,
      "outputs": []
    },
    {
      "cell_type": "code",
      "source": [
        "df1['d_worst_SR'] = df1['calc_SR'].apply(lambda x : (x-Worst_SR)*(x-Worst_SR))\n",
        "df1['d_worst_BPB'] = df1['calc_BPB'].apply(lambda x : (x-Worst_BPB)*(x-Worst_BPB))\n",
        "df1['d_worst_BPD'] = df1['calc_BPD'].apply(lambda x : (x-Worst_BPD)*(x-Worst_BPD))\n",
        "df1['d_worst_DP'] = df1['calc_DP'].apply(lambda x : (x-Worst_DP)*(x-Worst_DP))\n",
        "df1['d_worst_RPI'] = df1['calc_RPI'].apply(lambda x : (x-Worst_RPI)*(x-Worst_RPI))\n",
        "\n",
        "df1['d_worst_score'] = df1.apply(lambda x : (x['d_worst_SR'] + x['d_worst_BPB'] + x['d_worst_BPD'] + x['d_worst_DP'] + x['d_worst_RPI']),axis=1)\n",
        "\n",
        "\n"
      ],
      "metadata": {
        "id": "942OFxr8FbVs"
      },
      "execution_count": 112,
      "outputs": []
    },
    {
      "cell_type": "code",
      "source": [
        "df1['score'] = df1.apply(lambda x: x['d_worst_score']/(x['d_worst_score'] + x['d_best_score']),axis=1)"
      ],
      "metadata": {
        "id": "7MLKy9SpKUos"
      },
      "execution_count": 115,
      "outputs": []
    },
    {
      "cell_type": "code",
      "source": [
        "df1[['batsman','StrikeRate','RPI','BPB','BPD','DotPercentage','score']].sort_values(by='score',ascending=False).head(15)"
      ],
      "metadata": {
        "colab": {
          "base_uri": "https://localhost:8080/",
          "height": 519
        },
        "id": "jutcp2zpMshJ",
        "outputId": "d9516d8f-6f9a-46ed-a20f-17383cc995e7"
      },
      "execution_count": 130,
      "outputs": [
        {
          "output_type": "execute_result",
          "data": {
            "text/plain": [
              "            batsman  StrikeRate        RPI       BPB        BPD  DotPercentage     score\n",
              "208  PBB Rajapaksa   175.000000  9.333333   3.200000  10.666667  46.875000      0.965213\n",
              "154  LS Livingstone  165.432099  12.181818  3.681818  20.250000  46.913580      0.964649\n",
              "271  SP Narine       166.250000  15.833333  3.225806  11.764706  50.000000      0.957402\n",
              "135  KH Pandya       159.259259  4.777778   3.375000  13.500000  44.444444      0.944939\n",
              "121  JM Bairstow     142.710472  19.305556  4.127119  30.437500  47.433265      0.897653\n",
              "266  SN Khan         144.230769  10.714286  4.333333  17.333333  42.307692      0.895915\n",
              "214  PP Shaw         143.456163  17.920635  4.142105  20.179487  43.837357      0.895807\n",
              "171  MJ Lumb         143.312102  18.750000  3.738095  26.166667  49.044586      0.895345\n",
              "55   C Munro         142.391304  16.375000  4.181818  23.000000  45.652174      0.890596\n",
              "58   CA Lynn         140.867993  19.475000  4.066176  32.529412  49.005425      0.886704\n",
              "90   E Lewis         140.939597  19.090909  4.257143  22.923077  48.657718      0.879037\n",
              "115  JC Buttler      139.455782  19.838710  4.160377  33.923077  49.206349      0.878784\n",
              "18   AD Hales        139.024390  19.000000  4.823529  27.333333  43.902439      0.876209\n",
              "320  YK Pathan       141.015625  10.939394  4.063492  21.333333  48.828125      0.875180\n",
              "170  MJ Guptill      139.490446  16.846154  4.757576  17.444444  45.859873      0.867517"
            ],
            "text/html": [
              "\n",
              "  <div id=\"df-35f1907d-def2-4953-a010-cb60ce4cae73\">\n",
              "    <div class=\"colab-df-container\">\n",
              "      <div>\n",
              "<style scoped>\n",
              "    .dataframe tbody tr th:only-of-type {\n",
              "        vertical-align: middle;\n",
              "    }\n",
              "\n",
              "    .dataframe tbody tr th {\n",
              "        vertical-align: top;\n",
              "    }\n",
              "\n",
              "    .dataframe thead th {\n",
              "        text-align: right;\n",
              "    }\n",
              "</style>\n",
              "<table border=\"1\" class=\"dataframe\">\n",
              "  <thead>\n",
              "    <tr style=\"text-align: right;\">\n",
              "      <th></th>\n",
              "      <th>batsman</th>\n",
              "      <th>StrikeRate</th>\n",
              "      <th>RPI</th>\n",
              "      <th>BPB</th>\n",
              "      <th>BPD</th>\n",
              "      <th>DotPercentage</th>\n",
              "      <th>score</th>\n",
              "    </tr>\n",
              "  </thead>\n",
              "  <tbody>\n",
              "    <tr>\n",
              "      <th>208</th>\n",
              "      <td>PBB Rajapaksa</td>\n",
              "      <td>175.000000</td>\n",
              "      <td>9.333333</td>\n",
              "      <td>3.200000</td>\n",
              "      <td>10.666667</td>\n",
              "      <td>46.875000</td>\n",
              "      <td>0.965213</td>\n",
              "    </tr>\n",
              "    <tr>\n",
              "      <th>154</th>\n",
              "      <td>LS Livingstone</td>\n",
              "      <td>165.432099</td>\n",
              "      <td>12.181818</td>\n",
              "      <td>3.681818</td>\n",
              "      <td>20.250000</td>\n",
              "      <td>46.913580</td>\n",
              "      <td>0.964649</td>\n",
              "    </tr>\n",
              "    <tr>\n",
              "      <th>271</th>\n",
              "      <td>SP Narine</td>\n",
              "      <td>166.250000</td>\n",
              "      <td>15.833333</td>\n",
              "      <td>3.225806</td>\n",
              "      <td>11.764706</td>\n",
              "      <td>50.000000</td>\n",
              "      <td>0.957402</td>\n",
              "    </tr>\n",
              "    <tr>\n",
              "      <th>135</th>\n",
              "      <td>KH Pandya</td>\n",
              "      <td>159.259259</td>\n",
              "      <td>4.777778</td>\n",
              "      <td>3.375000</td>\n",
              "      <td>13.500000</td>\n",
              "      <td>44.444444</td>\n",
              "      <td>0.944939</td>\n",
              "    </tr>\n",
              "    <tr>\n",
              "      <th>121</th>\n",
              "      <td>JM Bairstow</td>\n",
              "      <td>142.710472</td>\n",
              "      <td>19.305556</td>\n",
              "      <td>4.127119</td>\n",
              "      <td>30.437500</td>\n",
              "      <td>47.433265</td>\n",
              "      <td>0.897653</td>\n",
              "    </tr>\n",
              "    <tr>\n",
              "      <th>266</th>\n",
              "      <td>SN Khan</td>\n",
              "      <td>144.230769</td>\n",
              "      <td>10.714286</td>\n",
              "      <td>4.333333</td>\n",
              "      <td>17.333333</td>\n",
              "      <td>42.307692</td>\n",
              "      <td>0.895915</td>\n",
              "    </tr>\n",
              "    <tr>\n",
              "      <th>214</th>\n",
              "      <td>PP Shaw</td>\n",
              "      <td>143.456163</td>\n",
              "      <td>17.920635</td>\n",
              "      <td>4.142105</td>\n",
              "      <td>20.179487</td>\n",
              "      <td>43.837357</td>\n",
              "      <td>0.895807</td>\n",
              "    </tr>\n",
              "    <tr>\n",
              "      <th>171</th>\n",
              "      <td>MJ Lumb</td>\n",
              "      <td>143.312102</td>\n",
              "      <td>18.750000</td>\n",
              "      <td>3.738095</td>\n",
              "      <td>26.166667</td>\n",
              "      <td>49.044586</td>\n",
              "      <td>0.895345</td>\n",
              "    </tr>\n",
              "    <tr>\n",
              "      <th>55</th>\n",
              "      <td>C Munro</td>\n",
              "      <td>142.391304</td>\n",
              "      <td>16.375000</td>\n",
              "      <td>4.181818</td>\n",
              "      <td>23.000000</td>\n",
              "      <td>45.652174</td>\n",
              "      <td>0.890596</td>\n",
              "    </tr>\n",
              "    <tr>\n",
              "      <th>58</th>\n",
              "      <td>CA Lynn</td>\n",
              "      <td>140.867993</td>\n",
              "      <td>19.475000</td>\n",
              "      <td>4.066176</td>\n",
              "      <td>32.529412</td>\n",
              "      <td>49.005425</td>\n",
              "      <td>0.886704</td>\n",
              "    </tr>\n",
              "    <tr>\n",
              "      <th>90</th>\n",
              "      <td>E Lewis</td>\n",
              "      <td>140.939597</td>\n",
              "      <td>19.090909</td>\n",
              "      <td>4.257143</td>\n",
              "      <td>22.923077</td>\n",
              "      <td>48.657718</td>\n",
              "      <td>0.879037</td>\n",
              "    </tr>\n",
              "    <tr>\n",
              "      <th>115</th>\n",
              "      <td>JC Buttler</td>\n",
              "      <td>139.455782</td>\n",
              "      <td>19.838710</td>\n",
              "      <td>4.160377</td>\n",
              "      <td>33.923077</td>\n",
              "      <td>49.206349</td>\n",
              "      <td>0.878784</td>\n",
              "    </tr>\n",
              "    <tr>\n",
              "      <th>18</th>\n",
              "      <td>AD Hales</td>\n",
              "      <td>139.024390</td>\n",
              "      <td>19.000000</td>\n",
              "      <td>4.823529</td>\n",
              "      <td>27.333333</td>\n",
              "      <td>43.902439</td>\n",
              "      <td>0.876209</td>\n",
              "    </tr>\n",
              "    <tr>\n",
              "      <th>320</th>\n",
              "      <td>YK Pathan</td>\n",
              "      <td>141.015625</td>\n",
              "      <td>10.939394</td>\n",
              "      <td>4.063492</td>\n",
              "      <td>21.333333</td>\n",
              "      <td>48.828125</td>\n",
              "      <td>0.875180</td>\n",
              "    </tr>\n",
              "    <tr>\n",
              "      <th>170</th>\n",
              "      <td>MJ Guptill</td>\n",
              "      <td>139.490446</td>\n",
              "      <td>16.846154</td>\n",
              "      <td>4.757576</td>\n",
              "      <td>17.444444</td>\n",
              "      <td>45.859873</td>\n",
              "      <td>0.867517</td>\n",
              "    </tr>\n",
              "  </tbody>\n",
              "</table>\n",
              "</div>\n",
              "      <button class=\"colab-df-convert\" onclick=\"convertToInteractive('df-35f1907d-def2-4953-a010-cb60ce4cae73')\"\n",
              "              title=\"Convert this dataframe to an interactive table.\"\n",
              "              style=\"display:none;\">\n",
              "        \n",
              "  <svg xmlns=\"http://www.w3.org/2000/svg\" height=\"24px\"viewBox=\"0 0 24 24\"\n",
              "       width=\"24px\">\n",
              "    <path d=\"M0 0h24v24H0V0z\" fill=\"none\"/>\n",
              "    <path d=\"M18.56 5.44l.94 2.06.94-2.06 2.06-.94-2.06-.94-.94-2.06-.94 2.06-2.06.94zm-11 1L8.5 8.5l.94-2.06 2.06-.94-2.06-.94L8.5 2.5l-.94 2.06-2.06.94zm10 10l.94 2.06.94-2.06 2.06-.94-2.06-.94-.94-2.06-.94 2.06-2.06.94z\"/><path d=\"M17.41 7.96l-1.37-1.37c-.4-.4-.92-.59-1.43-.59-.52 0-1.04.2-1.43.59L10.3 9.45l-7.72 7.72c-.78.78-.78 2.05 0 2.83L4 21.41c.39.39.9.59 1.41.59.51 0 1.02-.2 1.41-.59l7.78-7.78 2.81-2.81c.8-.78.8-2.07 0-2.86zM5.41 20L4 18.59l7.72-7.72 1.47 1.35L5.41 20z\"/>\n",
              "  </svg>\n",
              "      </button>\n",
              "      \n",
              "  <style>\n",
              "    .colab-df-container {\n",
              "      display:flex;\n",
              "      flex-wrap:wrap;\n",
              "      gap: 12px;\n",
              "    }\n",
              "\n",
              "    .colab-df-convert {\n",
              "      background-color: #E8F0FE;\n",
              "      border: none;\n",
              "      border-radius: 50%;\n",
              "      cursor: pointer;\n",
              "      display: none;\n",
              "      fill: #1967D2;\n",
              "      height: 32px;\n",
              "      padding: 0 0 0 0;\n",
              "      width: 32px;\n",
              "    }\n",
              "\n",
              "    .colab-df-convert:hover {\n",
              "      background-color: #E2EBFA;\n",
              "      box-shadow: 0px 1px 2px rgba(60, 64, 67, 0.3), 0px 1px 3px 1px rgba(60, 64, 67, 0.15);\n",
              "      fill: #174EA6;\n",
              "    }\n",
              "\n",
              "    [theme=dark] .colab-df-convert {\n",
              "      background-color: #3B4455;\n",
              "      fill: #D2E3FC;\n",
              "    }\n",
              "\n",
              "    [theme=dark] .colab-df-convert:hover {\n",
              "      background-color: #434B5C;\n",
              "      box-shadow: 0px 1px 3px 1px rgba(0, 0, 0, 0.15);\n",
              "      filter: drop-shadow(0px 1px 2px rgba(0, 0, 0, 0.3));\n",
              "      fill: #FFFFFF;\n",
              "    }\n",
              "  </style>\n",
              "\n",
              "      <script>\n",
              "        const buttonEl =\n",
              "          document.querySelector('#df-35f1907d-def2-4953-a010-cb60ce4cae73 button.colab-df-convert');\n",
              "        buttonEl.style.display =\n",
              "          google.colab.kernel.accessAllowed ? 'block' : 'none';\n",
              "\n",
              "        async function convertToInteractive(key) {\n",
              "          const element = document.querySelector('#df-35f1907d-def2-4953-a010-cb60ce4cae73');\n",
              "          const dataTable =\n",
              "            await google.colab.kernel.invokeFunction('convertToInteractive',\n",
              "                                                     [key], {});\n",
              "          if (!dataTable) return;\n",
              "\n",
              "          const docLinkHtml = 'Like what you see? Visit the ' +\n",
              "            '<a target=\"_blank\" href=https://colab.research.google.com/notebooks/data_table.ipynb>data table notebook</a>'\n",
              "            + ' to learn more about interactive tables.';\n",
              "          element.innerHTML = '';\n",
              "          dataTable['output_type'] = 'display_data';\n",
              "          await google.colab.output.renderOutput(dataTable, element);\n",
              "          const docLink = document.createElement('div');\n",
              "          docLink.innerHTML = docLinkHtml;\n",
              "          element.appendChild(docLink);\n",
              "        }\n",
              "      </script>\n",
              "    </div>\n",
              "  </div>\n",
              "  "
            ]
          },
          "metadata": {},
          "execution_count": 130
        }
      ]
    },
    {
      "cell_type": "markdown",
      "source": [
        "## ***Conclusion:***"
      ],
      "metadata": {
        "id": "3M6FUwqUQY6v"
      }
    },
    {
      "cell_type": "markdown",
      "source": [
        "I tried to check the score using different normalisation methods and We will go with the result based on Topsis method as I feel this gives the result that is more relevant\n",
        "\n",
        "According to the method, it is concluded that Sunrisers should go for below players since all other players were already representing other teams.\n",
        "\n",
        "1) Colin Munro\n",
        "2) Chris Lynn\n",
        "3) Evin Lewis\n",
        "\n",
        "These are the top 3 players who will be best suitable for the role of Pinch Hitter."
      ],
      "metadata": {
        "id": "8clO6fJbTN90"
      }
    }
  ]
}