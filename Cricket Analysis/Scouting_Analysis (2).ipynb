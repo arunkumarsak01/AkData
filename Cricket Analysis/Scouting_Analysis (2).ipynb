{
  "nbformat": 4,
  "nbformat_minor": 0,
  "metadata": {
    "colab": {
      "provenance": []
    },
    "kernelspec": {
      "name": "python3",
      "display_name": "Python 3"
    },
    "language_info": {
      "name": "python"
    }
  },
  "cells": [
    {
      "cell_type": "markdown",
      "source": [
        "# **Scouting Analysis:**\n",
        "\n",
        "**Problem Statement:**\n",
        "\n",
        "Who is the best pinch hitter inside the PP in the ipl so far? \n",
        "\n",
        "**Criteria** : Min 20 Innings"
      ],
      "metadata": {
        "id": "J-W7YO9r39t-"
      }
    },
    {
      "cell_type": "code",
      "execution_count": 1,
      "metadata": {
        "id": "RrM6cGrd5DE-"
      },
      "outputs": [],
      "source": [
        "import pandas as pd\n",
        "import numpy as np\n",
        "import matplotlib.pyplot as plt\n",
        "import warnings\n",
        "warnings.filterwarnings('ignore')\n",
        "\n",
        "pd.set_option('display.max_rows',None)\n",
        "pd.set_option('display.max_columns',None)\n",
        "pd.set_option('display.expand_frame_repr',False)\n",
        "pd.set_option('max.colwidth',-1)\n",
        "\n"
      ]
    },
    {
      "cell_type": "code",
      "source": [
        "from google.colab import files\n",
        "uploaded = files.upload()"
      ],
      "metadata": {
        "colab": {
          "base_uri": "https://localhost:8080/",
          "height": 109
        },
        "id": "gfImM6595qVq",
        "outputId": "a99911bb-5b31-4146-f150-c1dafcba0156"
      },
      "execution_count": 3,
      "outputs": [
        {
          "output_type": "display_data",
          "data": {
            "text/plain": [
              "<IPython.core.display.HTML object>"
            ],
            "text/html": [
              "\n",
              "     <input type=\"file\" id=\"files-235214cb-865d-4183-928f-9e544c793680\" name=\"files[]\" multiple disabled\n",
              "        style=\"border:none\" />\n",
              "     <output id=\"result-235214cb-865d-4183-928f-9e544c793680\">\n",
              "      Upload widget is only available when the cell has been executed in the\n",
              "      current browser session. Please rerun this cell to enable.\n",
              "      </output>\n",
              "      <script>// Copyright 2017 Google LLC\n",
              "//\n",
              "// Licensed under the Apache License, Version 2.0 (the \"License\");\n",
              "// you may not use this file except in compliance with the License.\n",
              "// You may obtain a copy of the License at\n",
              "//\n",
              "//      http://www.apache.org/licenses/LICENSE-2.0\n",
              "//\n",
              "// Unless required by applicable law or agreed to in writing, software\n",
              "// distributed under the License is distributed on an \"AS IS\" BASIS,\n",
              "// WITHOUT WARRANTIES OR CONDITIONS OF ANY KIND, either express or implied.\n",
              "// See the License for the specific language governing permissions and\n",
              "// limitations under the License.\n",
              "\n",
              "/**\n",
              " * @fileoverview Helpers for google.colab Python module.\n",
              " */\n",
              "(function(scope) {\n",
              "function span(text, styleAttributes = {}) {\n",
              "  const element = document.createElement('span');\n",
              "  element.textContent = text;\n",
              "  for (const key of Object.keys(styleAttributes)) {\n",
              "    element.style[key] = styleAttributes[key];\n",
              "  }\n",
              "  return element;\n",
              "}\n",
              "\n",
              "// Max number of bytes which will be uploaded at a time.\n",
              "const MAX_PAYLOAD_SIZE = 100 * 1024;\n",
              "\n",
              "function _uploadFiles(inputId, outputId) {\n",
              "  const steps = uploadFilesStep(inputId, outputId);\n",
              "  const outputElement = document.getElementById(outputId);\n",
              "  // Cache steps on the outputElement to make it available for the next call\n",
              "  // to uploadFilesContinue from Python.\n",
              "  outputElement.steps = steps;\n",
              "\n",
              "  return _uploadFilesContinue(outputId);\n",
              "}\n",
              "\n",
              "// This is roughly an async generator (not supported in the browser yet),\n",
              "// where there are multiple asynchronous steps and the Python side is going\n",
              "// to poll for completion of each step.\n",
              "// This uses a Promise to block the python side on completion of each step,\n",
              "// then passes the result of the previous step as the input to the next step.\n",
              "function _uploadFilesContinue(outputId) {\n",
              "  const outputElement = document.getElementById(outputId);\n",
              "  const steps = outputElement.steps;\n",
              "\n",
              "  const next = steps.next(outputElement.lastPromiseValue);\n",
              "  return Promise.resolve(next.value.promise).then((value) => {\n",
              "    // Cache the last promise value to make it available to the next\n",
              "    // step of the generator.\n",
              "    outputElement.lastPromiseValue = value;\n",
              "    return next.value.response;\n",
              "  });\n",
              "}\n",
              "\n",
              "/**\n",
              " * Generator function which is called between each async step of the upload\n",
              " * process.\n",
              " * @param {string} inputId Element ID of the input file picker element.\n",
              " * @param {string} outputId Element ID of the output display.\n",
              " * @return {!Iterable<!Object>} Iterable of next steps.\n",
              " */\n",
              "function* uploadFilesStep(inputId, outputId) {\n",
              "  const inputElement = document.getElementById(inputId);\n",
              "  inputElement.disabled = false;\n",
              "\n",
              "  const outputElement = document.getElementById(outputId);\n",
              "  outputElement.innerHTML = '';\n",
              "\n",
              "  const pickedPromise = new Promise((resolve) => {\n",
              "    inputElement.addEventListener('change', (e) => {\n",
              "      resolve(e.target.files);\n",
              "    });\n",
              "  });\n",
              "\n",
              "  const cancel = document.createElement('button');\n",
              "  inputElement.parentElement.appendChild(cancel);\n",
              "  cancel.textContent = 'Cancel upload';\n",
              "  const cancelPromise = new Promise((resolve) => {\n",
              "    cancel.onclick = () => {\n",
              "      resolve(null);\n",
              "    };\n",
              "  });\n",
              "\n",
              "  // Wait for the user to pick the files.\n",
              "  const files = yield {\n",
              "    promise: Promise.race([pickedPromise, cancelPromise]),\n",
              "    response: {\n",
              "      action: 'starting',\n",
              "    }\n",
              "  };\n",
              "\n",
              "  cancel.remove();\n",
              "\n",
              "  // Disable the input element since further picks are not allowed.\n",
              "  inputElement.disabled = true;\n",
              "\n",
              "  if (!files) {\n",
              "    return {\n",
              "      response: {\n",
              "        action: 'complete',\n",
              "      }\n",
              "    };\n",
              "  }\n",
              "\n",
              "  for (const file of files) {\n",
              "    const li = document.createElement('li');\n",
              "    li.append(span(file.name, {fontWeight: 'bold'}));\n",
              "    li.append(span(\n",
              "        `(${file.type || 'n/a'}) - ${file.size} bytes, ` +\n",
              "        `last modified: ${\n",
              "            file.lastModifiedDate ? file.lastModifiedDate.toLocaleDateString() :\n",
              "                                    'n/a'} - `));\n",
              "    const percent = span('0% done');\n",
              "    li.appendChild(percent);\n",
              "\n",
              "    outputElement.appendChild(li);\n",
              "\n",
              "    const fileDataPromise = new Promise((resolve) => {\n",
              "      const reader = new FileReader();\n",
              "      reader.onload = (e) => {\n",
              "        resolve(e.target.result);\n",
              "      };\n",
              "      reader.readAsArrayBuffer(file);\n",
              "    });\n",
              "    // Wait for the data to be ready.\n",
              "    let fileData = yield {\n",
              "      promise: fileDataPromise,\n",
              "      response: {\n",
              "        action: 'continue',\n",
              "      }\n",
              "    };\n",
              "\n",
              "    // Use a chunked sending to avoid message size limits. See b/62115660.\n",
              "    let position = 0;\n",
              "    do {\n",
              "      const length = Math.min(fileData.byteLength - position, MAX_PAYLOAD_SIZE);\n",
              "      const chunk = new Uint8Array(fileData, position, length);\n",
              "      position += length;\n",
              "\n",
              "      const base64 = btoa(String.fromCharCode.apply(null, chunk));\n",
              "      yield {\n",
              "        response: {\n",
              "          action: 'append',\n",
              "          file: file.name,\n",
              "          data: base64,\n",
              "        },\n",
              "      };\n",
              "\n",
              "      let percentDone = fileData.byteLength === 0 ?\n",
              "          100 :\n",
              "          Math.round((position / fileData.byteLength) * 100);\n",
              "      percent.textContent = `${percentDone}% done`;\n",
              "\n",
              "    } while (position < fileData.byteLength);\n",
              "  }\n",
              "\n",
              "  // All done.\n",
              "  yield {\n",
              "    response: {\n",
              "      action: 'complete',\n",
              "    }\n",
              "  };\n",
              "}\n",
              "\n",
              "scope.google = scope.google || {};\n",
              "scope.google.colab = scope.google.colab || {};\n",
              "scope.google.colab._files = {\n",
              "  _uploadFiles,\n",
              "  _uploadFilesContinue,\n",
              "};\n",
              "})(self);\n",
              "</script> "
            ]
          },
          "metadata": {}
        },
        {
          "output_type": "stream",
          "name": "stdout",
          "text": [
            "Saving deliveries.csv to deliveries.csv\n",
            "Saving matches.csv to matches.csv\n"
          ]
        }
      ]
    },
    {
      "cell_type": "code",
      "source": [
        "matches = pd.read_csv('matches.csv')\n",
        "deliveries = pd.read_csv('deliveries.csv')\n"
      ],
      "metadata": {
        "id": "My9TDFgb5w9K"
      },
      "execution_count": 4,
      "outputs": []
    },
    {
      "cell_type": "code",
      "source": [
        "df = deliveries.copy()\n",
        "mf = matches.copy()"
      ],
      "metadata": {
        "id": "QbC-dg937_4E"
      },
      "execution_count": 5,
      "outputs": []
    },
    {
      "cell_type": "code",
      "source": [
        "df['one'] = df['batsman_runs'].apply(lambda x:  1 if x==1 else 0 )\n",
        "df['two'] = df['batsman_runs'].apply(lambda x: 1 if x==2 else 0 )\n",
        "df['three'] = df['batsman_runs'].apply(lambda x: 1 if x==3 else 0 )\n",
        "df['four'] = df['batsman_runs'].apply(lambda x:  1 if x==4 else 0 )\n",
        "df['six'] = df['batsman_runs'].apply(lambda x: 1 if x==6 else 0 )\n",
        "df['dot'] = df['batsman_runs'].apply(lambda x: 1 if x==0 else 0 )\n"
      ],
      "metadata": {
        "id": "Ruw73Ngd8M7K"
      },
      "execution_count": 6,
      "outputs": []
    },
    {
      "cell_type": "code",
      "source": [
        "def phase(over):\n",
        "  if over < 6:\n",
        "    return 'Powerplay'\n",
        "  elif over < 15:\n",
        "    return 'Middle'\n",
        "  else:\n",
        "    return 'Death'\n"
      ],
      "metadata": {
        "id": "2bs0cQ9b9GF-"
      },
      "execution_count": 7,
      "outputs": []
    },
    {
      "cell_type": "code",
      "source": [
        "df['Phase'] = df['over'].apply(lambda x : phase(x))"
      ],
      "metadata": {
        "id": "7ghD-0sg9kgE"
      },
      "execution_count": 8,
      "outputs": []
    },
    {
      "cell_type": "markdown",
      "source": [
        "Extracting Player Details for Given Phase:"
      ],
      "metadata": {
        "id": "rnmcyP2RRpnf"
      }
    },
    {
      "cell_type": "code",
      "source": [
        "def Custom(df,current_phase):\n",
        "  df = df[df.Phase == current_phase]\n",
        "  df.reset_index(inplace = True,drop = True)\n",
        "\n",
        "  runs = pd.DataFrame(df.groupby(['batsman'])['batsman_runs'].sum().reset_index().rename(columns={'batsman_runs':'Runs'}))\n",
        "  balls = pd.DataFrame(df.groupby(['batsman'])['batsman_runs'].count().reset_index().rename(columns={'batsman_runs':'Balls_Faced'}))\n",
        "  dismissals = pd.DataFrame(df.groupby(['batsman'])['player_dismissed'].count().reset_index().rename(columns={'player_dismissed':'Dismissals'}))\n",
        "  innings = pd.DataFrame(df.groupby(['batsman'])['matchId'].apply(lambda x : len(list(np.unique(x)))).reset_index().rename(columns={'matchId':'Innings'}))\n",
        "\n",
        "  ones = pd.DataFrame(df.groupby(['batsman'])['one'].sum().reset_index().rename(columns={'one':'Ones'}))\n",
        "  twos = pd.DataFrame(df.groupby(['batsman'])['two'].sum().reset_index().rename(columns={'two':'Twos'}))\n",
        "  three = pd.DataFrame(df.groupby(['batsman'])['three'].sum().reset_index().rename(columns={'three':'Threes'}))\n",
        "  fours = pd.DataFrame(df.groupby(['batsman'])['four'].sum().reset_index().rename(columns={'four':'Fours'}))\n",
        "  sixes = pd.DataFrame(df.groupby(['batsman'])['six'].sum().reset_index().rename(columns={'six':'Sixes'}))\n",
        "  dots = pd.DataFrame(df.groupby(['batsman'])['dot'].sum().reset_index().rename(columns={'dot':'Dots'}))\n",
        "\n",
        "  df = pd.merge(runs,balls,on='batsman').merge(dismissals,on='batsman').merge(innings,on='batsman').merge(ones,on='batsman').merge(twos,on='batsman').merge(three,on='batsman').merge(fours,on='batsman').merge(sixes,on='batsman').merge(dots,on='batsman')\n",
        "  \n",
        "  \n",
        "  return df"
      ],
      "metadata": {
        "id": "cg9zi-paBYT-"
      },
      "execution_count": 9,
      "outputs": []
    },
    {
      "cell_type": "code",
      "source": [
        "df1 = Custom(df,'Powerplay')\n",
        "df2 = Custom(df,'Middle')\n",
        "df3 = Custom(df,'Death')\n"
      ],
      "metadata": {
        "id": "YqZiRMG7IZPC"
      },
      "execution_count": 10,
      "outputs": []
    },
    {
      "cell_type": "markdown",
      "source": [
        "***Criteria for Scouting Analysis : Min - 20 Innings***"
      ],
      "metadata": {
        "id": "cqIZ0-ob1CZJ"
      }
    },
    {
      "cell_type": "code",
      "source": [
        "df1 = df1[df1.Innings > 20]"
      ],
      "metadata": {
        "id": "3UXXiZhWJQxp"
      },
      "execution_count": 11,
      "outputs": []
    },
    {
      "cell_type": "code",
      "source": [
        "df1['RPI'] = df1.apply(lambda x : x['Runs']/x['Innings'],axis=1)"
      ],
      "metadata": {
        "id": "sDjliNDDL15-"
      },
      "execution_count": 12,
      "outputs": []
    },
    {
      "cell_type": "code",
      "source": [
        "df1['Boundaries'] = df1['Fours'] + df1['Sixes'] "
      ],
      "metadata": {
        "id": "FKUJCQHCNuKv"
      },
      "execution_count": 13,
      "outputs": []
    },
    {
      "cell_type": "code",
      "source": [
        "def BPB(Balls,Boundary):\n",
        "  if Boundary > 0 :\n",
        "    return Balls / Boundary \n",
        "  else:\n",
        "    return Balls\n",
        "\n",
        "def BPD(Balls,Dismissals):\n",
        "  if Dismissals > 0:\n",
        "    return Balls / Dismissals\n",
        "  else:\n",
        "    return Balls\n",
        "\n",
        "def Average(Runs,Dismissals):\n",
        "  if Dismissals > 0:\n",
        "    return Runs/Dismissals\n",
        "  else:\n",
        "    return Runs"
      ],
      "metadata": {
        "id": "yGByLZppMrWM"
      },
      "execution_count": 14,
      "outputs": []
    },
    {
      "cell_type": "code",
      "source": [
        "df1['BPB'] = df1.apply(lambda x : BPB(x['Balls_Faced'],x['Boundaries']),axis=1)\n",
        "df1['BPD'] = df1.apply(lambda x : BPB(x['Balls_Faced'],x['Dismissals']),axis=1)\n",
        "df1['Average'] = df1.apply(lambda x : BPB(x['Runs'],x['Dismissals']),axis=1)\n",
        "df1['StrikeRate'] = df1.apply(lambda x : (x['Runs'] / x['Balls_Faced'])*100,axis=1)\n",
        "df1['DotPercentage'] = df1.apply(lambda x: (x['Dots']/x['Balls_Faced'])*100,axis=1)"
      ],
      "metadata": {
        "id": "bdfQE-0CNaxb"
      },
      "execution_count": 15,
      "outputs": []
    },
    {
      "cell_type": "code",
      "source": [
        "df1.head(5)"
      ],
      "metadata": {
        "colab": {
          "base_uri": "https://localhost:8080/",
          "height": 357
        },
        "id": "ka7uyppZ3Nw0",
        "outputId": "7bbe0471-dd25-44dd-aa09-394cabf7e0d4"
      },
      "execution_count": 17,
      "outputs": [
        {
          "output_type": "execute_result",
          "data": {
            "text/plain": [
              "           batsman  Runs  Balls_Faced  Dismissals  Innings  Ones  Twos  Threes  Fours  Sixes  Dots        RPI  Boundaries       BPB        BPD    Average  StrikeRate  DotPercentage\n",
              "14  AB de Villiers  741   630          22          81       164   24    3       100    20     319   9.148148   120         5.250000  28.636364  33.681818  117.619048  50.634921    \n",
              "16  AC Gilchrist    1385  1080         48          80       244   37    3       191    49     556   17.312500  240         4.500000  22.500000  28.854167  128.240741  51.481481    \n",
              "24  AJ Finch        911   826          40          71       194   39    3       120    25     445   12.830986  145         5.696552  20.650000  22.775000  110.290557  53.874092    \n",
              "28  AM Rahane       2049  1837         66          139      550   76    11      273    37     890   14.741007  310         5.925806  27.833333  31.045455  111.540555  48.448557    \n",
              "34  AT Rayudu       777   750          23          82       215   23    0       93     24     395   9.475610   117         6.410256  32.608696  33.782609  103.600000  52.666667    "
            ],
            "text/html": [
              "\n",
              "  <div id=\"df-a548631d-3656-4c1a-9449-2c2b9f43b090\">\n",
              "    <div class=\"colab-df-container\">\n",
              "      <div>\n",
              "<style scoped>\n",
              "    .dataframe tbody tr th:only-of-type {\n",
              "        vertical-align: middle;\n",
              "    }\n",
              "\n",
              "    .dataframe tbody tr th {\n",
              "        vertical-align: top;\n",
              "    }\n",
              "\n",
              "    .dataframe thead th {\n",
              "        text-align: right;\n",
              "    }\n",
              "</style>\n",
              "<table border=\"1\" class=\"dataframe\">\n",
              "  <thead>\n",
              "    <tr style=\"text-align: right;\">\n",
              "      <th></th>\n",
              "      <th>batsman</th>\n",
              "      <th>Runs</th>\n",
              "      <th>Balls_Faced</th>\n",
              "      <th>Dismissals</th>\n",
              "      <th>Innings</th>\n",
              "      <th>Ones</th>\n",
              "      <th>Twos</th>\n",
              "      <th>Threes</th>\n",
              "      <th>Fours</th>\n",
              "      <th>Sixes</th>\n",
              "      <th>Dots</th>\n",
              "      <th>RPI</th>\n",
              "      <th>Boundaries</th>\n",
              "      <th>BPB</th>\n",
              "      <th>BPD</th>\n",
              "      <th>Average</th>\n",
              "      <th>StrikeRate</th>\n",
              "      <th>DotPercentage</th>\n",
              "    </tr>\n",
              "  </thead>\n",
              "  <tbody>\n",
              "    <tr>\n",
              "      <th>14</th>\n",
              "      <td>AB de Villiers</td>\n",
              "      <td>741</td>\n",
              "      <td>630</td>\n",
              "      <td>22</td>\n",
              "      <td>81</td>\n",
              "      <td>164</td>\n",
              "      <td>24</td>\n",
              "      <td>3</td>\n",
              "      <td>100</td>\n",
              "      <td>20</td>\n",
              "      <td>319</td>\n",
              "      <td>9.148148</td>\n",
              "      <td>120</td>\n",
              "      <td>5.250000</td>\n",
              "      <td>28.636364</td>\n",
              "      <td>33.681818</td>\n",
              "      <td>117.619048</td>\n",
              "      <td>50.634921</td>\n",
              "    </tr>\n",
              "    <tr>\n",
              "      <th>16</th>\n",
              "      <td>AC Gilchrist</td>\n",
              "      <td>1385</td>\n",
              "      <td>1080</td>\n",
              "      <td>48</td>\n",
              "      <td>80</td>\n",
              "      <td>244</td>\n",
              "      <td>37</td>\n",
              "      <td>3</td>\n",
              "      <td>191</td>\n",
              "      <td>49</td>\n",
              "      <td>556</td>\n",
              "      <td>17.312500</td>\n",
              "      <td>240</td>\n",
              "      <td>4.500000</td>\n",
              "      <td>22.500000</td>\n",
              "      <td>28.854167</td>\n",
              "      <td>128.240741</td>\n",
              "      <td>51.481481</td>\n",
              "    </tr>\n",
              "    <tr>\n",
              "      <th>24</th>\n",
              "      <td>AJ Finch</td>\n",
              "      <td>911</td>\n",
              "      <td>826</td>\n",
              "      <td>40</td>\n",
              "      <td>71</td>\n",
              "      <td>194</td>\n",
              "      <td>39</td>\n",
              "      <td>3</td>\n",
              "      <td>120</td>\n",
              "      <td>25</td>\n",
              "      <td>445</td>\n",
              "      <td>12.830986</td>\n",
              "      <td>145</td>\n",
              "      <td>5.696552</td>\n",
              "      <td>20.650000</td>\n",
              "      <td>22.775000</td>\n",
              "      <td>110.290557</td>\n",
              "      <td>53.874092</td>\n",
              "    </tr>\n",
              "    <tr>\n",
              "      <th>28</th>\n",
              "      <td>AM Rahane</td>\n",
              "      <td>2049</td>\n",
              "      <td>1837</td>\n",
              "      <td>66</td>\n",
              "      <td>139</td>\n",
              "      <td>550</td>\n",
              "      <td>76</td>\n",
              "      <td>11</td>\n",
              "      <td>273</td>\n",
              "      <td>37</td>\n",
              "      <td>890</td>\n",
              "      <td>14.741007</td>\n",
              "      <td>310</td>\n",
              "      <td>5.925806</td>\n",
              "      <td>27.833333</td>\n",
              "      <td>31.045455</td>\n",
              "      <td>111.540555</td>\n",
              "      <td>48.448557</td>\n",
              "    </tr>\n",
              "    <tr>\n",
              "      <th>34</th>\n",
              "      <td>AT Rayudu</td>\n",
              "      <td>777</td>\n",
              "      <td>750</td>\n",
              "      <td>23</td>\n",
              "      <td>82</td>\n",
              "      <td>215</td>\n",
              "      <td>23</td>\n",
              "      <td>0</td>\n",
              "      <td>93</td>\n",
              "      <td>24</td>\n",
              "      <td>395</td>\n",
              "      <td>9.475610</td>\n",
              "      <td>117</td>\n",
              "      <td>6.410256</td>\n",
              "      <td>32.608696</td>\n",
              "      <td>33.782609</td>\n",
              "      <td>103.600000</td>\n",
              "      <td>52.666667</td>\n",
              "    </tr>\n",
              "  </tbody>\n",
              "</table>\n",
              "</div>\n",
              "      <button class=\"colab-df-convert\" onclick=\"convertToInteractive('df-a548631d-3656-4c1a-9449-2c2b9f43b090')\"\n",
              "              title=\"Convert this dataframe to an interactive table.\"\n",
              "              style=\"display:none;\">\n",
              "        \n",
              "  <svg xmlns=\"http://www.w3.org/2000/svg\" height=\"24px\"viewBox=\"0 0 24 24\"\n",
              "       width=\"24px\">\n",
              "    <path d=\"M0 0h24v24H0V0z\" fill=\"none\"/>\n",
              "    <path d=\"M18.56 5.44l.94 2.06.94-2.06 2.06-.94-2.06-.94-.94-2.06-.94 2.06-2.06.94zm-11 1L8.5 8.5l.94-2.06 2.06-.94-2.06-.94L8.5 2.5l-.94 2.06-2.06.94zm10 10l.94 2.06.94-2.06 2.06-.94-2.06-.94-.94-2.06-.94 2.06-2.06.94z\"/><path d=\"M17.41 7.96l-1.37-1.37c-.4-.4-.92-.59-1.43-.59-.52 0-1.04.2-1.43.59L10.3 9.45l-7.72 7.72c-.78.78-.78 2.05 0 2.83L4 21.41c.39.39.9.59 1.41.59.51 0 1.02-.2 1.41-.59l7.78-7.78 2.81-2.81c.8-.78.8-2.07 0-2.86zM5.41 20L4 18.59l7.72-7.72 1.47 1.35L5.41 20z\"/>\n",
              "  </svg>\n",
              "      </button>\n",
              "      \n",
              "  <style>\n",
              "    .colab-df-container {\n",
              "      display:flex;\n",
              "      flex-wrap:wrap;\n",
              "      gap: 12px;\n",
              "    }\n",
              "\n",
              "    .colab-df-convert {\n",
              "      background-color: #E8F0FE;\n",
              "      border: none;\n",
              "      border-radius: 50%;\n",
              "      cursor: pointer;\n",
              "      display: none;\n",
              "      fill: #1967D2;\n",
              "      height: 32px;\n",
              "      padding: 0 0 0 0;\n",
              "      width: 32px;\n",
              "    }\n",
              "\n",
              "    .colab-df-convert:hover {\n",
              "      background-color: #E2EBFA;\n",
              "      box-shadow: 0px 1px 2px rgba(60, 64, 67, 0.3), 0px 1px 3px 1px rgba(60, 64, 67, 0.15);\n",
              "      fill: #174EA6;\n",
              "    }\n",
              "\n",
              "    [theme=dark] .colab-df-convert {\n",
              "      background-color: #3B4455;\n",
              "      fill: #D2E3FC;\n",
              "    }\n",
              "\n",
              "    [theme=dark] .colab-df-convert:hover {\n",
              "      background-color: #434B5C;\n",
              "      box-shadow: 0px 1px 3px 1px rgba(0, 0, 0, 0.15);\n",
              "      filter: drop-shadow(0px 1px 2px rgba(0, 0, 0, 0.3));\n",
              "      fill: #FFFFFF;\n",
              "    }\n",
              "  </style>\n",
              "\n",
              "      <script>\n",
              "        const buttonEl =\n",
              "          document.querySelector('#df-a548631d-3656-4c1a-9449-2c2b9f43b090 button.colab-df-convert');\n",
              "        buttonEl.style.display =\n",
              "          google.colab.kernel.accessAllowed ? 'block' : 'none';\n",
              "\n",
              "        async function convertToInteractive(key) {\n",
              "          const element = document.querySelector('#df-a548631d-3656-4c1a-9449-2c2b9f43b090');\n",
              "          const dataTable =\n",
              "            await google.colab.kernel.invokeFunction('convertToInteractive',\n",
              "                                                     [key], {});\n",
              "          if (!dataTable) return;\n",
              "\n",
              "          const docLinkHtml = 'Like what you see? Visit the ' +\n",
              "            '<a target=\"_blank\" href=https://colab.research.google.com/notebooks/data_table.ipynb>data table notebook</a>'\n",
              "            + ' to learn more about interactive tables.';\n",
              "          element.innerHTML = '';\n",
              "          dataTable['output_type'] = 'display_data';\n",
              "          await google.colab.output.renderOutput(dataTable, element);\n",
              "          const docLink = document.createElement('div');\n",
              "          docLink.innerHTML = docLinkHtml;\n",
              "          element.appendChild(docLink);\n",
              "        }\n",
              "      </script>\n",
              "    </div>\n",
              "  </div>\n",
              "  "
            ]
          },
          "metadata": {},
          "execution_count": 17
        }
      ]
    },
    {
      "cell_type": "markdown",
      "source": [
        "***Pair Wise Comparison to determine criteria weights:***"
      ],
      "metadata": {
        "id": "CN78chsEV_ei"
      }
    },
    {
      "cell_type": "markdown",
      "source": [
        "![image.png](data:image/png;base64,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)"
      ],
      "metadata": {
        "id": "mPsE-DgD9tbT"
      }
    },
    {
      "cell_type": "code",
      "source": [
        "wt_SR,wt_BPB,wt_BPD,wt_DP,wt_RPI = 0.261,0.135,0.117,0.276,0.211"
      ],
      "metadata": {
        "id": "-vUQfhdAV51M"
      },
      "execution_count": 18,
      "outputs": []
    },
    {
      "cell_type": "markdown",
      "source": [
        "**Calculating the score using MinMax Value:**"
      ],
      "metadata": {
        "id": "R21j7VAFzHlB"
      }
    },
    {
      "cell_type": "code",
      "source": [
        "min_val = min(df1['StrikeRate']) \n",
        "max_val = max(df1['StrikeRate'])\n",
        "\n",
        "df1['mx_SR'] = df1['StrikeRate'].apply(lambda x: (x - min_val)/(max_val - min_val))"
      ],
      "metadata": {
        "id": "JTdUr-DpzFHG"
      },
      "execution_count": 19,
      "outputs": []
    },
    {
      "cell_type": "code",
      "source": [
        "min_val = max(df1['BPB']) \n",
        "max_val = min(df1['BPB'])\n",
        "\n",
        "df1['mx_BPB'] = df1['BPB'].apply(lambda x: (x - min_val)/(max_val - min_val))"
      ],
      "metadata": {
        "id": "KwpkOpKnzgOn"
      },
      "execution_count": 20,
      "outputs": []
    },
    {
      "cell_type": "code",
      "source": [
        "min_val = min(df1['BPD'])\n",
        "max_val = max(df1['BPD'])\n",
        "\n",
        "df1['mx_BPD'] = df1['BPD'].apply(lambda x : (x - min_val)/(max_val - min_val))"
      ],
      "metadata": {
        "id": "Kk8dlPOTz888"
      },
      "execution_count": 21,
      "outputs": []
    },
    {
      "cell_type": "code",
      "source": [
        "min_val = max(df1['DotPercentage'])\n",
        "max_val = min(df1['DotPercentage'])\n",
        "\n",
        "df1['mx_DP'] = df1['DotPercentage'].apply(lambda x : (x - min_val)/(max_val - min_val))"
      ],
      "metadata": {
        "id": "IABRviUL0bk4"
      },
      "execution_count": 22,
      "outputs": []
    },
    {
      "cell_type": "code",
      "source": [
        "min_val = min(df1['RPI'])\n",
        "max_val = max(df1['RPI'])\n",
        "\n",
        "df1['mx_RPI'] = df1['RPI'].apply(lambda x : (x - min_val)/(max_val - min_val))"
      ],
      "metadata": {
        "id": "CwywUyDF0pEW"
      },
      "execution_count": 23,
      "outputs": []
    },
    {
      "cell_type": "code",
      "source": [
        "df1['minmax_score'] = df1.apply(lambda x : (x['mx_SR']*0.261 + x['mx_BPB']*0.135 + x['mx_BPD']*0.117 + x['mx_DP']*0.276 + x['mx_RPI']*0.211),axis=1)"
      ],
      "metadata": {
        "id": "9aQLRboS0zhN"
      },
      "execution_count": 25,
      "outputs": []
    },
    {
      "cell_type": "code",
      "source": [
        "df1[['batsman','Runs','Balls_Faced','Innings','StrikeRate','DotPercentage','BPB','BPD','minmax_score']].sort_values(by='minmax_score',ascending=False).head(5).reset_index()"
      ],
      "metadata": {
        "colab": {
          "base_uri": "https://localhost:8080/",
          "height": 206
        },
        "id": "L92sOyDP2Fdz",
        "outputId": "a874a9d4-f931-4782-e318-ebf12a714690"
      },
      "execution_count": 26,
      "outputs": [
        {
          "output_type": "execute_result",
          "data": {
            "text/plain": [
              "   index       batsman  Runs  Balls_Faced  Innings  StrikeRate  DotPercentage       BPB        BPD  minmax_score\n",
              "0  214    PP Shaw       1129  787          63       143.456163  43.837357      4.142105  20.179487  0.785652    \n",
              "1  121    JM Bairstow   695   487          36       142.710472  47.433265      4.127119  30.437500  0.784824    \n",
              "2  115    JC Buttler    1230  882          62       139.455782  49.206349      4.160377  33.923077  0.769205    \n",
              "3  58     CA Lynn       779   553          40       140.867993  49.005425      4.066176  32.529412  0.769136    \n",
              "4  140    KP Pietersen  392   301          28       130.232558  44.518272      5.101695  60.200000  0.754015    "
            ],
            "text/html": [
              "\n",
              "  <div id=\"df-f5084f5a-07d3-4652-a6fd-2a81c3aec243\">\n",
              "    <div class=\"colab-df-container\">\n",
              "      <div>\n",
              "<style scoped>\n",
              "    .dataframe tbody tr th:only-of-type {\n",
              "        vertical-align: middle;\n",
              "    }\n",
              "\n",
              "    .dataframe tbody tr th {\n",
              "        vertical-align: top;\n",
              "    }\n",
              "\n",
              "    .dataframe thead th {\n",
              "        text-align: right;\n",
              "    }\n",
              "</style>\n",
              "<table border=\"1\" class=\"dataframe\">\n",
              "  <thead>\n",
              "    <tr style=\"text-align: right;\">\n",
              "      <th></th>\n",
              "      <th>index</th>\n",
              "      <th>batsman</th>\n",
              "      <th>Runs</th>\n",
              "      <th>Balls_Faced</th>\n",
              "      <th>Innings</th>\n",
              "      <th>StrikeRate</th>\n",
              "      <th>DotPercentage</th>\n",
              "      <th>BPB</th>\n",
              "      <th>BPD</th>\n",
              "      <th>minmax_score</th>\n",
              "    </tr>\n",
              "  </thead>\n",
              "  <tbody>\n",
              "    <tr>\n",
              "      <th>0</th>\n",
              "      <td>214</td>\n",
              "      <td>PP Shaw</td>\n",
              "      <td>1129</td>\n",
              "      <td>787</td>\n",
              "      <td>63</td>\n",
              "      <td>143.456163</td>\n",
              "      <td>43.837357</td>\n",
              "      <td>4.142105</td>\n",
              "      <td>20.179487</td>\n",
              "      <td>0.785652</td>\n",
              "    </tr>\n",
              "    <tr>\n",
              "      <th>1</th>\n",
              "      <td>121</td>\n",
              "      <td>JM Bairstow</td>\n",
              "      <td>695</td>\n",
              "      <td>487</td>\n",
              "      <td>36</td>\n",
              "      <td>142.710472</td>\n",
              "      <td>47.433265</td>\n",
              "      <td>4.127119</td>\n",
              "      <td>30.437500</td>\n",
              "      <td>0.784824</td>\n",
              "    </tr>\n",
              "    <tr>\n",
              "      <th>2</th>\n",
              "      <td>115</td>\n",
              "      <td>JC Buttler</td>\n",
              "      <td>1230</td>\n",
              "      <td>882</td>\n",
              "      <td>62</td>\n",
              "      <td>139.455782</td>\n",
              "      <td>49.206349</td>\n",
              "      <td>4.160377</td>\n",
              "      <td>33.923077</td>\n",
              "      <td>0.769205</td>\n",
              "    </tr>\n",
              "    <tr>\n",
              "      <th>3</th>\n",
              "      <td>58</td>\n",
              "      <td>CA Lynn</td>\n",
              "      <td>779</td>\n",
              "      <td>553</td>\n",
              "      <td>40</td>\n",
              "      <td>140.867993</td>\n",
              "      <td>49.005425</td>\n",
              "      <td>4.066176</td>\n",
              "      <td>32.529412</td>\n",
              "      <td>0.769136</td>\n",
              "    </tr>\n",
              "    <tr>\n",
              "      <th>4</th>\n",
              "      <td>140</td>\n",
              "      <td>KP Pietersen</td>\n",
              "      <td>392</td>\n",
              "      <td>301</td>\n",
              "      <td>28</td>\n",
              "      <td>130.232558</td>\n",
              "      <td>44.518272</td>\n",
              "      <td>5.101695</td>\n",
              "      <td>60.200000</td>\n",
              "      <td>0.754015</td>\n",
              "    </tr>\n",
              "  </tbody>\n",
              "</table>\n",
              "</div>\n",
              "      <button class=\"colab-df-convert\" onclick=\"convertToInteractive('df-f5084f5a-07d3-4652-a6fd-2a81c3aec243')\"\n",
              "              title=\"Convert this dataframe to an interactive table.\"\n",
              "              style=\"display:none;\">\n",
              "        \n",
              "  <svg xmlns=\"http://www.w3.org/2000/svg\" height=\"24px\"viewBox=\"0 0 24 24\"\n",
              "       width=\"24px\">\n",
              "    <path d=\"M0 0h24v24H0V0z\" fill=\"none\"/>\n",
              "    <path d=\"M18.56 5.44l.94 2.06.94-2.06 2.06-.94-2.06-.94-.94-2.06-.94 2.06-2.06.94zm-11 1L8.5 8.5l.94-2.06 2.06-.94-2.06-.94L8.5 2.5l-.94 2.06-2.06.94zm10 10l.94 2.06.94-2.06 2.06-.94-2.06-.94-.94-2.06-.94 2.06-2.06.94z\"/><path d=\"M17.41 7.96l-1.37-1.37c-.4-.4-.92-.59-1.43-.59-.52 0-1.04.2-1.43.59L10.3 9.45l-7.72 7.72c-.78.78-.78 2.05 0 2.83L4 21.41c.39.39.9.59 1.41.59.51 0 1.02-.2 1.41-.59l7.78-7.78 2.81-2.81c.8-.78.8-2.07 0-2.86zM5.41 20L4 18.59l7.72-7.72 1.47 1.35L5.41 20z\"/>\n",
              "  </svg>\n",
              "      </button>\n",
              "      \n",
              "  <style>\n",
              "    .colab-df-container {\n",
              "      display:flex;\n",
              "      flex-wrap:wrap;\n",
              "      gap: 12px;\n",
              "    }\n",
              "\n",
              "    .colab-df-convert {\n",
              "      background-color: #E8F0FE;\n",
              "      border: none;\n",
              "      border-radius: 50%;\n",
              "      cursor: pointer;\n",
              "      display: none;\n",
              "      fill: #1967D2;\n",
              "      height: 32px;\n",
              "      padding: 0 0 0 0;\n",
              "      width: 32px;\n",
              "    }\n",
              "\n",
              "    .colab-df-convert:hover {\n",
              "      background-color: #E2EBFA;\n",
              "      box-shadow: 0px 1px 2px rgba(60, 64, 67, 0.3), 0px 1px 3px 1px rgba(60, 64, 67, 0.15);\n",
              "      fill: #174EA6;\n",
              "    }\n",
              "\n",
              "    [theme=dark] .colab-df-convert {\n",
              "      background-color: #3B4455;\n",
              "      fill: #D2E3FC;\n",
              "    }\n",
              "\n",
              "    [theme=dark] .colab-df-convert:hover {\n",
              "      background-color: #434B5C;\n",
              "      box-shadow: 0px 1px 3px 1px rgba(0, 0, 0, 0.15);\n",
              "      filter: drop-shadow(0px 1px 2px rgba(0, 0, 0, 0.3));\n",
              "      fill: #FFFFFF;\n",
              "    }\n",
              "  </style>\n",
              "\n",
              "      <script>\n",
              "        const buttonEl =\n",
              "          document.querySelector('#df-f5084f5a-07d3-4652-a6fd-2a81c3aec243 button.colab-df-convert');\n",
              "        buttonEl.style.display =\n",
              "          google.colab.kernel.accessAllowed ? 'block' : 'none';\n",
              "\n",
              "        async function convertToInteractive(key) {\n",
              "          const element = document.querySelector('#df-f5084f5a-07d3-4652-a6fd-2a81c3aec243');\n",
              "          const dataTable =\n",
              "            await google.colab.kernel.invokeFunction('convertToInteractive',\n",
              "                                                     [key], {});\n",
              "          if (!dataTable) return;\n",
              "\n",
              "          const docLinkHtml = 'Like what you see? Visit the ' +\n",
              "            '<a target=\"_blank\" href=https://colab.research.google.com/notebooks/data_table.ipynb>data table notebook</a>'\n",
              "            + ' to learn more about interactive tables.';\n",
              "          element.innerHTML = '';\n",
              "          dataTable['output_type'] = 'display_data';\n",
              "          await google.colab.output.renderOutput(dataTable, element);\n",
              "          const docLink = document.createElement('div');\n",
              "          docLink.innerHTML = docLinkHtml;\n",
              "          element.appendChild(docLink);\n",
              "        }\n",
              "      </script>\n",
              "    </div>\n",
              "  </div>\n",
              "  "
            ]
          },
          "metadata": {},
          "execution_count": 26
        }
      ]
    },
    {
      "cell_type": "markdown",
      "source": [
        "**Calculating the score using Standardisation method:**"
      ],
      "metadata": {
        "id": "Ftg4AaJ4_Yes"
      }
    },
    {
      "cell_type": "code",
      "source": [
        "mean_val = np.mean(df1['StrikeRate'])\n",
        "std_val = np.std(df1['StrikeRate'])\n",
        "\n",
        "df1['st_SR'] = df1['StrikeRate'].apply(lambda x : (x - mean_val)/(std_val))"
      ],
      "metadata": {
        "id": "dpSwr4mh2G-3"
      },
      "execution_count": 27,
      "outputs": []
    },
    {
      "cell_type": "code",
      "source": [
        "mean_val = np.mean(df1['BPB'])\n",
        "std_val = np.std(df1['BPB'])\n",
        "\n",
        "df1['st_BPB'] = df1['BPB'].apply(lambda x : (x - mean_val)/(std_val))"
      ],
      "metadata": {
        "id": "OaqsK8cc-6XF"
      },
      "execution_count": 28,
      "outputs": []
    },
    {
      "cell_type": "code",
      "source": [
        "mean_val = np.mean(df1['BPD'])\n",
        "std_val = np.std(df1['BPD'])\n",
        "\n",
        "df1['st_BPD'] = df1['BPD'].apply(lambda x : (x - mean_val)/(std_val))"
      ],
      "metadata": {
        "id": "cZnOMf2o_G8G"
      },
      "execution_count": 29,
      "outputs": []
    },
    {
      "cell_type": "code",
      "source": [
        "mean_val = np.mean(df1['DotPercentage'])\n",
        "std_val = np.std(df1['DotPercentage'])\n",
        "\n",
        "df1['st_DP'] = df1['DotPercentage'].apply(lambda x : (x - mean_val)/(std_val))"
      ],
      "metadata": {
        "id": "trV3qbZb_Kco"
      },
      "execution_count": 30,
      "outputs": []
    },
    {
      "cell_type": "code",
      "source": [
        "mean_val = np.mean(df1['RPI'])\n",
        "std_val = np.std(df1['RPI'])\n",
        "\n",
        "df1['st_RPI'] = df1['RPI'].apply(lambda x : (x - mean_val)/(std_val))"
      ],
      "metadata": {
        "id": "2FehTbhI_SBG"
      },
      "execution_count": 31,
      "outputs": []
    },
    {
      "cell_type": "code",
      "source": [
        "df1['st_score'] = df1.apply(lambda x : (x['st_SR']*0.261 + x['st_BPB']*0.135 + x['st_BPD']*0.117 + x['st_DP']*0.276 + x['st_RPI']*0.211), axis=1)"
      ],
      "metadata": {
        "id": "PUhWaCoS_WV2"
      },
      "execution_count": 32,
      "outputs": []
    },
    {
      "cell_type": "code",
      "source": [
        "df1.sort_values(by='st_score',ascending=False).head(5).reset_index()"
      ],
      "metadata": {
        "colab": {
          "base_uri": "https://localhost:8080/",
          "height": 304
        },
        "id": "uk0_KxJq_-0T",
        "outputId": "af301221-d916-4e3a-a914-2438e7db7d01"
      },
      "execution_count": 34,
      "outputs": [
        {
          "output_type": "execute_result",
          "data": {
            "text/plain": [
              "   index        batsman  Runs  Balls_Faced  Dismissals  Innings  Ones  Twos  Threes  Fours  Sixes  Dots        RPI  Boundaries       BPB        BPD    Average  StrikeRate  DotPercentage     mx_SR    mx_BPB    mx_BPD     mx_DP    mx_RPI  minmax_score     st_SR    st_BPB    st_BPD     st_DP    st_RPI  st_score\n",
              "0  87     DR Smith       1213  1003         27          65       217   44    2       155    47     538   18.661538  202         4.965347  37.148148  44.925926  120.937188  53.639083      0.508891  0.687128  0.524069  0.550738  0.915858  0.632148      0.282914 -0.563149  0.949030  0.435906  1.477602  0.540936\n",
              "1  60     CH Gayle       2405  1851         66          135      379   41    2       267    145    1017  17.814815  412         4.492718  28.045455  36.439394  129.929768  54.943274      0.606354  0.772134  0.336134  0.491934  0.855335  0.618074      0.860902 -1.048602 -0.098171  0.722015  1.241000  0.532775\n",
              "2  278    ST Jayasuriya  514   403          20          30       64    12    5       61     27     233   17.133333  88          4.579545  20.150000  25.700000  127.543424  57.816377      0.580490  0.756518  0.173124  0.362390  0.806624  0.544111      0.707522 -0.959419 -1.006488  1.352308  1.050571  0.532290\n",
              "3  150    LMP Simmons    542   480          12          29       116   22    0       67     19     256   18.689655  86          5.581395  40.000000  45.166667  112.916667  53.333333      0.421963  0.576326  0.582949  0.564524  0.917867  0.605620     -0.232595  0.069616  1.277116  0.368831  1.485459  0.513343\n",
              "4  115    JC Buttler     1230  882          26          62       204   30    1       157    55     434   19.838710  212         4.160377  33.923077  47.307692  139.455782  49.206349      0.709599  0.831909  0.457484  0.750604  1.000000  0.769205      1.473175 -1.389961  0.578008 -0.536535  1.806543  0.497578"
            ],
            "text/html": [
              "\n",
              "  <div id=\"df-da7b23a5-4a39-469f-a314-5f410129f3b4\">\n",
              "    <div class=\"colab-df-container\">\n",
              "      <div>\n",
              "<style scoped>\n",
              "    .dataframe tbody tr th:only-of-type {\n",
              "        vertical-align: middle;\n",
              "    }\n",
              "\n",
              "    .dataframe tbody tr th {\n",
              "        vertical-align: top;\n",
              "    }\n",
              "\n",
              "    .dataframe thead th {\n",
              "        text-align: right;\n",
              "    }\n",
              "</style>\n",
              "<table border=\"1\" class=\"dataframe\">\n",
              "  <thead>\n",
              "    <tr style=\"text-align: right;\">\n",
              "      <th></th>\n",
              "      <th>index</th>\n",
              "      <th>batsman</th>\n",
              "      <th>Runs</th>\n",
              "      <th>Balls_Faced</th>\n",
              "      <th>Dismissals</th>\n",
              "      <th>Innings</th>\n",
              "      <th>Ones</th>\n",
              "      <th>Twos</th>\n",
              "      <th>Threes</th>\n",
              "      <th>Fours</th>\n",
              "      <th>Sixes</th>\n",
              "      <th>Dots</th>\n",
              "      <th>RPI</th>\n",
              "      <th>Boundaries</th>\n",
              "      <th>BPB</th>\n",
              "      <th>BPD</th>\n",
              "      <th>Average</th>\n",
              "      <th>StrikeRate</th>\n",
              "      <th>DotPercentage</th>\n",
              "      <th>mx_SR</th>\n",
              "      <th>mx_BPB</th>\n",
              "      <th>mx_BPD</th>\n",
              "      <th>mx_DP</th>\n",
              "      <th>mx_RPI</th>\n",
              "      <th>minmax_score</th>\n",
              "      <th>st_SR</th>\n",
              "      <th>st_BPB</th>\n",
              "      <th>st_BPD</th>\n",
              "      <th>st_DP</th>\n",
              "      <th>st_RPI</th>\n",
              "      <th>st_score</th>\n",
              "    </tr>\n",
              "  </thead>\n",
              "  <tbody>\n",
              "    <tr>\n",
              "      <th>0</th>\n",
              "      <td>87</td>\n",
              "      <td>DR Smith</td>\n",
              "      <td>1213</td>\n",
              "      <td>1003</td>\n",
              "      <td>27</td>\n",
              "      <td>65</td>\n",
              "      <td>217</td>\n",
              "      <td>44</td>\n",
              "      <td>2</td>\n",
              "      <td>155</td>\n",
              "      <td>47</td>\n",
              "      <td>538</td>\n",
              "      <td>18.661538</td>\n",
              "      <td>202</td>\n",
              "      <td>4.965347</td>\n",
              "      <td>37.148148</td>\n",
              "      <td>44.925926</td>\n",
              "      <td>120.937188</td>\n",
              "      <td>53.639083</td>\n",
              "      <td>0.508891</td>\n",
              "      <td>0.687128</td>\n",
              "      <td>0.524069</td>\n",
              "      <td>0.550738</td>\n",
              "      <td>0.915858</td>\n",
              "      <td>0.632148</td>\n",
              "      <td>0.282914</td>\n",
              "      <td>-0.563149</td>\n",
              "      <td>0.949030</td>\n",
              "      <td>0.435906</td>\n",
              "      <td>1.477602</td>\n",
              "      <td>0.540936</td>\n",
              "    </tr>\n",
              "    <tr>\n",
              "      <th>1</th>\n",
              "      <td>60</td>\n",
              "      <td>CH Gayle</td>\n",
              "      <td>2405</td>\n",
              "      <td>1851</td>\n",
              "      <td>66</td>\n",
              "      <td>135</td>\n",
              "      <td>379</td>\n",
              "      <td>41</td>\n",
              "      <td>2</td>\n",
              "      <td>267</td>\n",
              "      <td>145</td>\n",
              "      <td>1017</td>\n",
              "      <td>17.814815</td>\n",
              "      <td>412</td>\n",
              "      <td>4.492718</td>\n",
              "      <td>28.045455</td>\n",
              "      <td>36.439394</td>\n",
              "      <td>129.929768</td>\n",
              "      <td>54.943274</td>\n",
              "      <td>0.606354</td>\n",
              "      <td>0.772134</td>\n",
              "      <td>0.336134</td>\n",
              "      <td>0.491934</td>\n",
              "      <td>0.855335</td>\n",
              "      <td>0.618074</td>\n",
              "      <td>0.860902</td>\n",
              "      <td>-1.048602</td>\n",
              "      <td>-0.098171</td>\n",
              "      <td>0.722015</td>\n",
              "      <td>1.241000</td>\n",
              "      <td>0.532775</td>\n",
              "    </tr>\n",
              "    <tr>\n",
              "      <th>2</th>\n",
              "      <td>278</td>\n",
              "      <td>ST Jayasuriya</td>\n",
              "      <td>514</td>\n",
              "      <td>403</td>\n",
              "      <td>20</td>\n",
              "      <td>30</td>\n",
              "      <td>64</td>\n",
              "      <td>12</td>\n",
              "      <td>5</td>\n",
              "      <td>61</td>\n",
              "      <td>27</td>\n",
              "      <td>233</td>\n",
              "      <td>17.133333</td>\n",
              "      <td>88</td>\n",
              "      <td>4.579545</td>\n",
              "      <td>20.150000</td>\n",
              "      <td>25.700000</td>\n",
              "      <td>127.543424</td>\n",
              "      <td>57.816377</td>\n",
              "      <td>0.580490</td>\n",
              "      <td>0.756518</td>\n",
              "      <td>0.173124</td>\n",
              "      <td>0.362390</td>\n",
              "      <td>0.806624</td>\n",
              "      <td>0.544111</td>\n",
              "      <td>0.707522</td>\n",
              "      <td>-0.959419</td>\n",
              "      <td>-1.006488</td>\n",
              "      <td>1.352308</td>\n",
              "      <td>1.050571</td>\n",
              "      <td>0.532290</td>\n",
              "    </tr>\n",
              "    <tr>\n",
              "      <th>3</th>\n",
              "      <td>150</td>\n",
              "      <td>LMP Simmons</td>\n",
              "      <td>542</td>\n",
              "      <td>480</td>\n",
              "      <td>12</td>\n",
              "      <td>29</td>\n",
              "      <td>116</td>\n",
              "      <td>22</td>\n",
              "      <td>0</td>\n",
              "      <td>67</td>\n",
              "      <td>19</td>\n",
              "      <td>256</td>\n",
              "      <td>18.689655</td>\n",
              "      <td>86</td>\n",
              "      <td>5.581395</td>\n",
              "      <td>40.000000</td>\n",
              "      <td>45.166667</td>\n",
              "      <td>112.916667</td>\n",
              "      <td>53.333333</td>\n",
              "      <td>0.421963</td>\n",
              "      <td>0.576326</td>\n",
              "      <td>0.582949</td>\n",
              "      <td>0.564524</td>\n",
              "      <td>0.917867</td>\n",
              "      <td>0.605620</td>\n",
              "      <td>-0.232595</td>\n",
              "      <td>0.069616</td>\n",
              "      <td>1.277116</td>\n",
              "      <td>0.368831</td>\n",
              "      <td>1.485459</td>\n",
              "      <td>0.513343</td>\n",
              "    </tr>\n",
              "    <tr>\n",
              "      <th>4</th>\n",
              "      <td>115</td>\n",
              "      <td>JC Buttler</td>\n",
              "      <td>1230</td>\n",
              "      <td>882</td>\n",
              "      <td>26</td>\n",
              "      <td>62</td>\n",
              "      <td>204</td>\n",
              "      <td>30</td>\n",
              "      <td>1</td>\n",
              "      <td>157</td>\n",
              "      <td>55</td>\n",
              "      <td>434</td>\n",
              "      <td>19.838710</td>\n",
              "      <td>212</td>\n",
              "      <td>4.160377</td>\n",
              "      <td>33.923077</td>\n",
              "      <td>47.307692</td>\n",
              "      <td>139.455782</td>\n",
              "      <td>49.206349</td>\n",
              "      <td>0.709599</td>\n",
              "      <td>0.831909</td>\n",
              "      <td>0.457484</td>\n",
              "      <td>0.750604</td>\n",
              "      <td>1.000000</td>\n",
              "      <td>0.769205</td>\n",
              "      <td>1.473175</td>\n",
              "      <td>-1.389961</td>\n",
              "      <td>0.578008</td>\n",
              "      <td>-0.536535</td>\n",
              "      <td>1.806543</td>\n",
              "      <td>0.497578</td>\n",
              "    </tr>\n",
              "  </tbody>\n",
              "</table>\n",
              "</div>\n",
              "      <button class=\"colab-df-convert\" onclick=\"convertToInteractive('df-da7b23a5-4a39-469f-a314-5f410129f3b4')\"\n",
              "              title=\"Convert this dataframe to an interactive table.\"\n",
              "              style=\"display:none;\">\n",
              "        \n",
              "  <svg xmlns=\"http://www.w3.org/2000/svg\" height=\"24px\"viewBox=\"0 0 24 24\"\n",
              "       width=\"24px\">\n",
              "    <path d=\"M0 0h24v24H0V0z\" fill=\"none\"/>\n",
              "    <path d=\"M18.56 5.44l.94 2.06.94-2.06 2.06-.94-2.06-.94-.94-2.06-.94 2.06-2.06.94zm-11 1L8.5 8.5l.94-2.06 2.06-.94-2.06-.94L8.5 2.5l-.94 2.06-2.06.94zm10 10l.94 2.06.94-2.06 2.06-.94-2.06-.94-.94-2.06-.94 2.06-2.06.94z\"/><path d=\"M17.41 7.96l-1.37-1.37c-.4-.4-.92-.59-1.43-.59-.52 0-1.04.2-1.43.59L10.3 9.45l-7.72 7.72c-.78.78-.78 2.05 0 2.83L4 21.41c.39.39.9.59 1.41.59.51 0 1.02-.2 1.41-.59l7.78-7.78 2.81-2.81c.8-.78.8-2.07 0-2.86zM5.41 20L4 18.59l7.72-7.72 1.47 1.35L5.41 20z\"/>\n",
              "  </svg>\n",
              "      </button>\n",
              "      \n",
              "  <style>\n",
              "    .colab-df-container {\n",
              "      display:flex;\n",
              "      flex-wrap:wrap;\n",
              "      gap: 12px;\n",
              "    }\n",
              "\n",
              "    .colab-df-convert {\n",
              "      background-color: #E8F0FE;\n",
              "      border: none;\n",
              "      border-radius: 50%;\n",
              "      cursor: pointer;\n",
              "      display: none;\n",
              "      fill: #1967D2;\n",
              "      height: 32px;\n",
              "      padding: 0 0 0 0;\n",
              "      width: 32px;\n",
              "    }\n",
              "\n",
              "    .colab-df-convert:hover {\n",
              "      background-color: #E2EBFA;\n",
              "      box-shadow: 0px 1px 2px rgba(60, 64, 67, 0.3), 0px 1px 3px 1px rgba(60, 64, 67, 0.15);\n",
              "      fill: #174EA6;\n",
              "    }\n",
              "\n",
              "    [theme=dark] .colab-df-convert {\n",
              "      background-color: #3B4455;\n",
              "      fill: #D2E3FC;\n",
              "    }\n",
              "\n",
              "    [theme=dark] .colab-df-convert:hover {\n",
              "      background-color: #434B5C;\n",
              "      box-shadow: 0px 1px 3px 1px rgba(0, 0, 0, 0.15);\n",
              "      filter: drop-shadow(0px 1px 2px rgba(0, 0, 0, 0.3));\n",
              "      fill: #FFFFFF;\n",
              "    }\n",
              "  </style>\n",
              "\n",
              "      <script>\n",
              "        const buttonEl =\n",
              "          document.querySelector('#df-da7b23a5-4a39-469f-a314-5f410129f3b4 button.colab-df-convert');\n",
              "        buttonEl.style.display =\n",
              "          google.colab.kernel.accessAllowed ? 'block' : 'none';\n",
              "\n",
              "        async function convertToInteractive(key) {\n",
              "          const element = document.querySelector('#df-da7b23a5-4a39-469f-a314-5f410129f3b4');\n",
              "          const dataTable =\n",
              "            await google.colab.kernel.invokeFunction('convertToInteractive',\n",
              "                                                     [key], {});\n",
              "          if (!dataTable) return;\n",
              "\n",
              "          const docLinkHtml = 'Like what you see? Visit the ' +\n",
              "            '<a target=\"_blank\" href=https://colab.research.google.com/notebooks/data_table.ipynb>data table notebook</a>'\n",
              "            + ' to learn more about interactive tables.';\n",
              "          element.innerHTML = '';\n",
              "          dataTable['output_type'] = 'display_data';\n",
              "          await google.colab.output.renderOutput(dataTable, element);\n",
              "          const docLink = document.createElement('div');\n",
              "          docLink.innerHTML = docLinkHtml;\n",
              "          element.appendChild(docLink);\n",
              "        }\n",
              "      </script>\n",
              "    </div>\n",
              "  </div>\n",
              "  "
            ]
          },
          "metadata": {},
          "execution_count": 34
        }
      ]
    },
    {
      "cell_type": "markdown",
      "source": [
        "**Calculating the score using the Topsis Method:**"
      ],
      "metadata": {
        "id": "26cNbFcOC21_"
      }
    },
    {
      "cell_type": "code",
      "source": [
        "df1['calc_SR'] = df1['StrikeRate'].apply(lambda x: x*x)\n",
        "df1['calc_BPB'] = df1['BPB'].apply(lambda x: x*x)\n",
        "df1['calc_BPD'] = df1['BPD'].apply(lambda x: x*x)\n",
        "df1['calc_DP'] = df1['DotPercentage'].apply(lambda x: x*x)\n",
        "df1['calc_RPI'] = df1['RPI'].apply(lambda x: x*x)\n",
        "\n"
      ],
      "metadata": {
        "id": "4z_8jyrtADub"
      },
      "execution_count": 35,
      "outputs": []
    },
    {
      "cell_type": "code",
      "source": [
        "sq_SR,sq_BPB,sq_BPD,sq_DP,sq_RPI = np.sqrt(df1[['calc_SR','calc_BPB','calc_BPD','calc_DP','calc_RPI']].sum(axis=0))"
      ],
      "metadata": {
        "id": "pn76TnnAC1kt"
      },
      "execution_count": 36,
      "outputs": []
    },
    {
      "cell_type": "code",
      "source": [
        "df1['calc_SR'] = df1['StrikeRate'].apply(lambda x: x/sq_SR)\n",
        "df1['calc_BPB'] = df1['BPB'].apply(lambda x: x/sq_BPB)\n",
        "df1['calc_BPD'] = df1['BPD'].apply(lambda x: x/sq_BPD)\n",
        "df1['calc_DP'] = df1['DotPercentage'].apply(lambda x: x/sq_DP)\n",
        "df1['calc_RPI'] = df1['RPI'].apply(lambda x: x/sq_RPI)\n",
        "\n"
      ],
      "metadata": {
        "id": "8Apmo5xzDsoK"
      },
      "execution_count": 37,
      "outputs": []
    },
    {
      "cell_type": "code",
      "source": [
        "df1['calc_SR'] = df1['StrikeRate'].apply(lambda x: x*wt_SR)\n",
        "df1['calc_BPB'] = df1['BPB'].apply(lambda x: x*wt_BPB)\n",
        "df1['calc_BPD'] = df1['BPD'].apply(lambda x: x*wt_BPD)\n",
        "df1['calc_DP'] = df1['DotPercentage'].apply(lambda x: x*wt_DP)\n",
        "df1['calc_RPI'] = df1['RPI'].apply(lambda x: x*wt_RPI)\n",
        "\n",
        "best_SR, Worst_SR = max(df1['calc_SR']) , min(df1['calc_SR'])\n",
        "best_BPB, Worst_BPB = min(df1['calc_BPB']) , max(df1['calc_BPB'])\n",
        "best_BPD, Worst_BPD = max(df1['calc_BPD']) , min(df1['calc_BPD'])\n",
        "best_DP, Worst_DP = min(df1['calc_DP']) , max(df1['calc_DP'])\n",
        "best_RPI, Worst_RPI = max(df1['calc_RPI']) , min(df1['calc_RPI'])\n",
        "\n"
      ],
      "metadata": {
        "id": "bWVd-p_UEEET"
      },
      "execution_count": 38,
      "outputs": []
    },
    {
      "cell_type": "markdown",
      "source": [
        "**Comparing against the best and worst values:**"
      ],
      "metadata": {
        "id": "Zp8H6eBIFiOb"
      }
    },
    {
      "cell_type": "code",
      "source": [
        "df1['d_best_SR'] = df1['calc_SR'].apply(lambda x : (x-best_SR)*(x-best_SR))\n",
        "df1['d_best_BPB'] = df1['calc_BPB'].apply(lambda x : (x-best_BPB)*(x-best_BPB))\n",
        "df1['d_best_BPD'] = df1['calc_BPD'].apply(lambda x : (x-best_BPD)*(x-best_BPD))\n",
        "df1['d_best_DP'] = df1['calc_DP'].apply(lambda x : (x-best_DP)*(x-best_DP))\n",
        "df1['d_best_RPI'] = df1['calc_RPI'].apply(lambda x : (x-best_RPI)*(x-best_RPI))\n",
        "\n",
        "df1['d_best_score'] = df1.apply(lambda x : (x['d_best_SR'] + x['d_best_BPB'] + x['d_best_BPD'] + x['d_best_DP'] + x['d_best_RPI']),axis=1)\n",
        "\n",
        "\n"
      ],
      "metadata": {
        "id": "EvQyUNJhFhx0"
      },
      "execution_count": 39,
      "outputs": []
    },
    {
      "cell_type": "code",
      "source": [
        "df1['d_worst_SR'] = df1['calc_SR'].apply(lambda x : (x-Worst_SR)*(x-Worst_SR))\n",
        "df1['d_worst_BPB'] = df1['calc_BPB'].apply(lambda x : (x-Worst_BPB)*(x-Worst_BPB))\n",
        "df1['d_worst_BPD'] = df1['calc_BPD'].apply(lambda x : (x-Worst_BPD)*(x-Worst_BPD))\n",
        "df1['d_worst_DP'] = df1['calc_DP'].apply(lambda x : (x-Worst_DP)*(x-Worst_DP))\n",
        "df1['d_worst_RPI'] = df1['calc_RPI'].apply(lambda x : (x-Worst_RPI)*(x-Worst_RPI))\n",
        "\n",
        "df1['d_worst_score'] = df1.apply(lambda x : (x['d_worst_SR'] + x['d_worst_BPB'] + x['d_worst_BPD'] + x['d_worst_DP'] + x['d_worst_RPI']),axis=1)\n",
        "\n",
        "\n"
      ],
      "metadata": {
        "id": "942OFxr8FbVs"
      },
      "execution_count": 40,
      "outputs": []
    },
    {
      "cell_type": "code",
      "source": [
        "df1['score'] = df1.apply(lambda x: x['d_worst_score']/(x['d_worst_score'] + x['d_best_score']),axis=1)"
      ],
      "metadata": {
        "id": "7MLKy9SpKUos"
      },
      "execution_count": 41,
      "outputs": []
    },
    {
      "cell_type": "code",
      "source": [
        "df1[['batsman','StrikeRate','RPI','BPB','BPD','DotPercentage','score']].sort_values(by='score',ascending=False).head(5)\n"
      ],
      "metadata": {
        "colab": {
          "base_uri": "https://localhost:8080/",
          "height": 206
        },
        "id": "jutcp2zpMshJ",
        "outputId": "fb58b936-f640-440d-dffd-dd81deedb3ba"
      },
      "execution_count": 42,
      "outputs": [
        {
          "output_type": "execute_result",
          "data": {
            "text/plain": [
              "         batsman  StrikeRate        RPI       BPB        BPD  DotPercentage     score\n",
              "271  SP Narine    166.250000  15.833333  3.225806  11.764706  50.000000      0.943939\n",
              "121  JM Bairstow  142.710472  19.305556  4.127119  30.437500  47.433265      0.876217\n",
              "214  PP Shaw      143.456163  17.920635  4.142105  20.179487  43.837357      0.866609\n",
              "58   CA Lynn      140.867993  19.475000  4.066176  32.529412  49.005425      0.857730\n",
              "115  JC Buttler   139.455782  19.838710  4.160377  33.923077  49.206349      0.844206"
            ],
            "text/html": [
              "\n",
              "  <div id=\"df-4c94a61e-edd5-4881-9f71-73b5e36b5031\">\n",
              "    <div class=\"colab-df-container\">\n",
              "      <div>\n",
              "<style scoped>\n",
              "    .dataframe tbody tr th:only-of-type {\n",
              "        vertical-align: middle;\n",
              "    }\n",
              "\n",
              "    .dataframe tbody tr th {\n",
              "        vertical-align: top;\n",
              "    }\n",
              "\n",
              "    .dataframe thead th {\n",
              "        text-align: right;\n",
              "    }\n",
              "</style>\n",
              "<table border=\"1\" class=\"dataframe\">\n",
              "  <thead>\n",
              "    <tr style=\"text-align: right;\">\n",
              "      <th></th>\n",
              "      <th>batsman</th>\n",
              "      <th>StrikeRate</th>\n",
              "      <th>RPI</th>\n",
              "      <th>BPB</th>\n",
              "      <th>BPD</th>\n",
              "      <th>DotPercentage</th>\n",
              "      <th>score</th>\n",
              "    </tr>\n",
              "  </thead>\n",
              "  <tbody>\n",
              "    <tr>\n",
              "      <th>271</th>\n",
              "      <td>SP Narine</td>\n",
              "      <td>166.250000</td>\n",
              "      <td>15.833333</td>\n",
              "      <td>3.225806</td>\n",
              "      <td>11.764706</td>\n",
              "      <td>50.000000</td>\n",
              "      <td>0.943939</td>\n",
              "    </tr>\n",
              "    <tr>\n",
              "      <th>121</th>\n",
              "      <td>JM Bairstow</td>\n",
              "      <td>142.710472</td>\n",
              "      <td>19.305556</td>\n",
              "      <td>4.127119</td>\n",
              "      <td>30.437500</td>\n",
              "      <td>47.433265</td>\n",
              "      <td>0.876217</td>\n",
              "    </tr>\n",
              "    <tr>\n",
              "      <th>214</th>\n",
              "      <td>PP Shaw</td>\n",
              "      <td>143.456163</td>\n",
              "      <td>17.920635</td>\n",
              "      <td>4.142105</td>\n",
              "      <td>20.179487</td>\n",
              "      <td>43.837357</td>\n",
              "      <td>0.866609</td>\n",
              "    </tr>\n",
              "    <tr>\n",
              "      <th>58</th>\n",
              "      <td>CA Lynn</td>\n",
              "      <td>140.867993</td>\n",
              "      <td>19.475000</td>\n",
              "      <td>4.066176</td>\n",
              "      <td>32.529412</td>\n",
              "      <td>49.005425</td>\n",
              "      <td>0.857730</td>\n",
              "    </tr>\n",
              "    <tr>\n",
              "      <th>115</th>\n",
              "      <td>JC Buttler</td>\n",
              "      <td>139.455782</td>\n",
              "      <td>19.838710</td>\n",
              "      <td>4.160377</td>\n",
              "      <td>33.923077</td>\n",
              "      <td>49.206349</td>\n",
              "      <td>0.844206</td>\n",
              "    </tr>\n",
              "  </tbody>\n",
              "</table>\n",
              "</div>\n",
              "      <button class=\"colab-df-convert\" onclick=\"convertToInteractive('df-4c94a61e-edd5-4881-9f71-73b5e36b5031')\"\n",
              "              title=\"Convert this dataframe to an interactive table.\"\n",
              "              style=\"display:none;\">\n",
              "        \n",
              "  <svg xmlns=\"http://www.w3.org/2000/svg\" height=\"24px\"viewBox=\"0 0 24 24\"\n",
              "       width=\"24px\">\n",
              "    <path d=\"M0 0h24v24H0V0z\" fill=\"none\"/>\n",
              "    <path d=\"M18.56 5.44l.94 2.06.94-2.06 2.06-.94-2.06-.94-.94-2.06-.94 2.06-2.06.94zm-11 1L8.5 8.5l.94-2.06 2.06-.94-2.06-.94L8.5 2.5l-.94 2.06-2.06.94zm10 10l.94 2.06.94-2.06 2.06-.94-2.06-.94-.94-2.06-.94 2.06-2.06.94z\"/><path d=\"M17.41 7.96l-1.37-1.37c-.4-.4-.92-.59-1.43-.59-.52 0-1.04.2-1.43.59L10.3 9.45l-7.72 7.72c-.78.78-.78 2.05 0 2.83L4 21.41c.39.39.9.59 1.41.59.51 0 1.02-.2 1.41-.59l7.78-7.78 2.81-2.81c.8-.78.8-2.07 0-2.86zM5.41 20L4 18.59l7.72-7.72 1.47 1.35L5.41 20z\"/>\n",
              "  </svg>\n",
              "      </button>\n",
              "      \n",
              "  <style>\n",
              "    .colab-df-container {\n",
              "      display:flex;\n",
              "      flex-wrap:wrap;\n",
              "      gap: 12px;\n",
              "    }\n",
              "\n",
              "    .colab-df-convert {\n",
              "      background-color: #E8F0FE;\n",
              "      border: none;\n",
              "      border-radius: 50%;\n",
              "      cursor: pointer;\n",
              "      display: none;\n",
              "      fill: #1967D2;\n",
              "      height: 32px;\n",
              "      padding: 0 0 0 0;\n",
              "      width: 32px;\n",
              "    }\n",
              "\n",
              "    .colab-df-convert:hover {\n",
              "      background-color: #E2EBFA;\n",
              "      box-shadow: 0px 1px 2px rgba(60, 64, 67, 0.3), 0px 1px 3px 1px rgba(60, 64, 67, 0.15);\n",
              "      fill: #174EA6;\n",
              "    }\n",
              "\n",
              "    [theme=dark] .colab-df-convert {\n",
              "      background-color: #3B4455;\n",
              "      fill: #D2E3FC;\n",
              "    }\n",
              "\n",
              "    [theme=dark] .colab-df-convert:hover {\n",
              "      background-color: #434B5C;\n",
              "      box-shadow: 0px 1px 3px 1px rgba(0, 0, 0, 0.15);\n",
              "      filter: drop-shadow(0px 1px 2px rgba(0, 0, 0, 0.3));\n",
              "      fill: #FFFFFF;\n",
              "    }\n",
              "  </style>\n",
              "\n",
              "      <script>\n",
              "        const buttonEl =\n",
              "          document.querySelector('#df-4c94a61e-edd5-4881-9f71-73b5e36b5031 button.colab-df-convert');\n",
              "        buttonEl.style.display =\n",
              "          google.colab.kernel.accessAllowed ? 'block' : 'none';\n",
              "\n",
              "        async function convertToInteractive(key) {\n",
              "          const element = document.querySelector('#df-4c94a61e-edd5-4881-9f71-73b5e36b5031');\n",
              "          const dataTable =\n",
              "            await google.colab.kernel.invokeFunction('convertToInteractive',\n",
              "                                                     [key], {});\n",
              "          if (!dataTable) return;\n",
              "\n",
              "          const docLinkHtml = 'Like what you see? Visit the ' +\n",
              "            '<a target=\"_blank\" href=https://colab.research.google.com/notebooks/data_table.ipynb>data table notebook</a>'\n",
              "            + ' to learn more about interactive tables.';\n",
              "          element.innerHTML = '';\n",
              "          dataTable['output_type'] = 'display_data';\n",
              "          await google.colab.output.renderOutput(dataTable, element);\n",
              "          const docLink = document.createElement('div');\n",
              "          docLink.innerHTML = docLinkHtml;\n",
              "          element.appendChild(docLink);\n",
              "        }\n",
              "      </script>\n",
              "    </div>\n",
              "  </div>\n",
              "  "
            ]
          },
          "metadata": {},
          "execution_count": 42
        }
      ]
    },
    {
      "cell_type": "markdown",
      "source": [
        "## ***Conclusion:***"
      ],
      "metadata": {
        "id": "3M6FUwqUQY6v"
      }
    },
    {
      "cell_type": "markdown",
      "source": [
        "I tried to check the score using different normalisation methods and I will go with the result based on Topsis method as I feel this gives the result that is more relevant\n",
        "\n",
        "According to the method, these are the top 5 players that teams should look for when it comes to bidding for Pinch hitter role in Auctions.\n",
        "\n",
        "1) Sunil Narine\n",
        "\n",
        "2) Johnny Bairstow\n",
        "\n",
        "3) Prithvi Shaw\n",
        "\n",
        "4) Chris Lynn\n",
        "\n",
        "5) Jos Butler \n",
        "\n"
      ],
      "metadata": {
        "id": "8clO6fJbTN90"
      }
    }
  ]
}